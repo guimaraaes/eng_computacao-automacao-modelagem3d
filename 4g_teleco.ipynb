{
  "nbformat": 4,
  "nbformat_minor": 0,
  "metadata": {
    "colab": {
      "name": "4g-teleco.ipynb",
      "provenance": [],
      "collapsed_sections": [],
      "authorship_tag": "ABX9TyPd8BWN2JztcA7WwnToemfK",
      "include_colab_link": true
    },
    "kernelspec": {
      "name": "python3",
      "display_name": "Python 3"
    }
  },
  "cells": [
    {
      "cell_type": "markdown",
      "metadata": {
        "id": "view-in-github",
        "colab_type": "text"
      },
      "source": [
        "<a href=\"https://colab.research.google.com/github/guimaraaes/eng_computacao-ufersa/blob/master/4g_teleco.ipynb\" target=\"_parent\"><img src=\"https://colab.research.google.com/assets/colab-badge.svg\" alt=\"Open In Colab\"/></a>"
      ]
    },
    {
      "cell_type": "code",
      "metadata": {
        "id": "VJ37Z_Mn7Mne"
      },
      "source": [
        "import numpy as np # linear algebra\n",
        "import pandas as pd # data processing, CSV file I/O (e.g. pd.read_csv)\n",
        "import seaborn as sns\n",
        "import matplotlib.pyplot as plt\n",
        "from collections import Counter\n",
        "%matplotlib inline\n",
        "from pandas.plotting import scatter_matrix\n",
        "import warnings\n",
        "warnings.filterwarnings('ignore') \n",
        "sns.set_theme()"
      ],
      "execution_count": null,
      "outputs": []
    },
    {
      "cell_type": "code",
      "metadata": {
        "id": "J_zc0CkD7NaA"
      },
      "source": [
        "municipios = pd.read_csv('https://raw.githubusercontent.com/guimaraaes/data-science/master/data/4g-networks/municipios.csv')\n",
        "regiaoI = pd.read_csv('https://raw.githubusercontent.com/guimaraaes/data-science/master/data/4g-networks/regiaoI.csv')\n",
        "regiaoII = pd.read_csv('https://raw.githubusercontent.com/guimaraaes/data-science/master/data/4g-networks/regiao2.csv')\n",
        "regiaoIII = pd.read_csv('https://raw.githubusercontent.com/guimaraaes/data-science/master/data/4g-networks/regiao3.csv')\n",
        "operadoras = pd.read_csv('https://raw.githubusercontent.com/guimaraaes/data-science/master/data/4g-networks/operadoras.csv')\n",
        "estado = pd.read_csv('https://raw.githubusercontent.com/guimaraaes/data-science/master/data/4g-networks/estado.csv')\n",
        "datawef = pd.read_csv('https://raw.githubusercontent.com/guimaraaes/data-science/master/data/4g-networks/data-wef.csv')\n"
      ],
      "execution_count": null,
      "outputs": []
    },
    {
      "cell_type": "code",
      "metadata": {
        "colab": {
          "base_uri": "https://localhost:8080/",
          "height": 406
        },
        "id": "n_IFgKIg7Ncd",
        "outputId": "d216defe-25ef-45bd-b62e-02c56775e308"
      },
      "source": [
        "TOTAL_MUNICIPIOS = municipios.shape[0]\n",
        "municipios"
      ],
      "execution_count": null,
      "outputs": [
        {
          "output_type": "execute_result",
          "data": {
            "text/html": [
              "<div>\n",
              "<style scoped>\n",
              "    .dataframe tbody tr th:only-of-type {\n",
              "        vertical-align: middle;\n",
              "    }\n",
              "\n",
              "    .dataframe tbody tr th {\n",
              "        vertical-align: top;\n",
              "    }\n",
              "\n",
              "    .dataframe thead th {\n",
              "        text-align: right;\n",
              "    }\n",
              "</style>\n",
              "<table border=\"1\" class=\"dataframe\">\n",
              "  <thead>\n",
              "    <tr style=\"text-align: right;\">\n",
              "      <th></th>\n",
              "      <th>uf</th>\n",
              "      <th>code_uf</th>\n",
              "      <th>code_city</th>\n",
              "      <th>city_name</th>\n",
              "      <th>population</th>\n",
              "      <th>code_ibge</th>\n",
              "    </tr>\n",
              "  </thead>\n",
              "  <tbody>\n",
              "    <tr>\n",
              "      <th>0</th>\n",
              "      <td>RO</td>\n",
              "      <td>11</td>\n",
              "      <td>15</td>\n",
              "      <td>Alta Floresta D'Oeste</td>\n",
              "      <td>22728</td>\n",
              "      <td>1100015</td>\n",
              "    </tr>\n",
              "    <tr>\n",
              "      <th>1</th>\n",
              "      <td>RO</td>\n",
              "      <td>11</td>\n",
              "      <td>23</td>\n",
              "      <td>Ariquemes</td>\n",
              "      <td>109523</td>\n",
              "      <td>1100023</td>\n",
              "    </tr>\n",
              "    <tr>\n",
              "      <th>2</th>\n",
              "      <td>RO</td>\n",
              "      <td>11</td>\n",
              "      <td>31</td>\n",
              "      <td>Cabixi</td>\n",
              "      <td>5188</td>\n",
              "      <td>1100031</td>\n",
              "    </tr>\n",
              "    <tr>\n",
              "      <th>3</th>\n",
              "      <td>RO</td>\n",
              "      <td>11</td>\n",
              "      <td>49</td>\n",
              "      <td>Cacoal</td>\n",
              "      <td>85893</td>\n",
              "      <td>1100049</td>\n",
              "    </tr>\n",
              "    <tr>\n",
              "      <th>4</th>\n",
              "      <td>RO</td>\n",
              "      <td>11</td>\n",
              "      <td>56</td>\n",
              "      <td>Cerejeiras</td>\n",
              "      <td>16204</td>\n",
              "      <td>1100056</td>\n",
              "    </tr>\n",
              "    <tr>\n",
              "      <th>...</th>\n",
              "      <td>...</td>\n",
              "      <td>...</td>\n",
              "      <td>...</td>\n",
              "      <td>...</td>\n",
              "      <td>...</td>\n",
              "      <td>...</td>\n",
              "    </tr>\n",
              "    <tr>\n",
              "      <th>5565</th>\n",
              "      <td>GO</td>\n",
              "      <td>52</td>\n",
              "      <td>22005</td>\n",
              "      <td>Vianópolis</td>\n",
              "      <td>13977</td>\n",
              "      <td>5222005</td>\n",
              "    </tr>\n",
              "    <tr>\n",
              "      <th>5566</th>\n",
              "      <td>GO</td>\n",
              "      <td>52</td>\n",
              "      <td>22054</td>\n",
              "      <td>Vicentinópolis</td>\n",
              "      <td>8873</td>\n",
              "      <td>5222054</td>\n",
              "    </tr>\n",
              "    <tr>\n",
              "      <th>5567</th>\n",
              "      <td>GO</td>\n",
              "      <td>52</td>\n",
              "      <td>22203</td>\n",
              "      <td>Vila Boa</td>\n",
              "      <td>6312</td>\n",
              "      <td>5222203</td>\n",
              "    </tr>\n",
              "    <tr>\n",
              "      <th>5568</th>\n",
              "      <td>GO</td>\n",
              "      <td>52</td>\n",
              "      <td>22302</td>\n",
              "      <td>Vila Propício</td>\n",
              "      <td>5882</td>\n",
              "      <td>5222302</td>\n",
              "    </tr>\n",
              "    <tr>\n",
              "      <th>5569</th>\n",
              "      <td>DF</td>\n",
              "      <td>53</td>\n",
              "      <td>108</td>\n",
              "      <td>Brasília</td>\n",
              "      <td>3055149</td>\n",
              "      <td>5300108</td>\n",
              "    </tr>\n",
              "  </tbody>\n",
              "</table>\n",
              "<p>5570 rows × 6 columns</p>\n",
              "</div>"
            ],
            "text/plain": [
              "      uf  code_uf  code_city              city_name  population  code_ibge\n",
              "0     RO       11         15  Alta Floresta D'Oeste       22728    1100015\n",
              "1     RO       11         23              Ariquemes      109523    1100023\n",
              "2     RO       11         31                 Cabixi        5188    1100031\n",
              "3     RO       11         49                 Cacoal       85893    1100049\n",
              "4     RO       11         56             Cerejeiras       16204    1100056\n",
              "...   ..      ...        ...                    ...         ...        ...\n",
              "5565  GO       52      22005             Vianópolis       13977    5222005\n",
              "5566  GO       52      22054         Vicentinópolis        8873    5222054\n",
              "5567  GO       52      22203               Vila Boa        6312    5222203\n",
              "5568  GO       52      22302          Vila Propício        5882    5222302\n",
              "5569  DF       53        108               Brasília     3055149    5300108\n",
              "\n",
              "[5570 rows x 6 columns]"
            ]
          },
          "metadata": {
            "tags": []
          },
          "execution_count": 3
        }
      ]
    },
    {
      "cell_type": "code",
      "metadata": {
        "id": "vNuurFuj7Ne1"
      },
      "source": [
        ""
      ],
      "execution_count": null,
      "outputs": []
    },
    {
      "cell_type": "code",
      "metadata": {
        "colab": {
          "base_uri": "https://localhost:8080/",
          "height": 406
        },
        "id": "OpH81q_L7NhN",
        "outputId": "0f60a430-5328-45bd-cfb1-ae7f591b4517"
      },
      "source": [
        "municipios_mais100k = municipios [municipios['population']>= 100000]\n",
        "TOTAL_MUNICIPIOS_MAIS100K = municipios_mais100k.shape[0]\n",
        "municipios_mais100k"
      ],
      "execution_count": null,
      "outputs": [
        {
          "output_type": "execute_result",
          "data": {
            "text/html": [
              "<div>\n",
              "<style scoped>\n",
              "    .dataframe tbody tr th:only-of-type {\n",
              "        vertical-align: middle;\n",
              "    }\n",
              "\n",
              "    .dataframe tbody tr th {\n",
              "        vertical-align: top;\n",
              "    }\n",
              "\n",
              "    .dataframe thead th {\n",
              "        text-align: right;\n",
              "    }\n",
              "</style>\n",
              "<table border=\"1\" class=\"dataframe\">\n",
              "  <thead>\n",
              "    <tr style=\"text-align: right;\">\n",
              "      <th></th>\n",
              "      <th>uf</th>\n",
              "      <th>code_uf</th>\n",
              "      <th>code_city</th>\n",
              "      <th>city_name</th>\n",
              "      <th>population</th>\n",
              "      <th>code_ibge</th>\n",
              "    </tr>\n",
              "  </thead>\n",
              "  <tbody>\n",
              "    <tr>\n",
              "      <th>1</th>\n",
              "      <td>RO</td>\n",
              "      <td>11</td>\n",
              "      <td>23</td>\n",
              "      <td>Ariquemes</td>\n",
              "      <td>109523</td>\n",
              "      <td>1100023</td>\n",
              "    </tr>\n",
              "    <tr>\n",
              "      <th>11</th>\n",
              "      <td>RO</td>\n",
              "      <td>11</td>\n",
              "      <td>122</td>\n",
              "      <td>Ji-Paraná</td>\n",
              "      <td>130009</td>\n",
              "      <td>1100122</td>\n",
              "    </tr>\n",
              "    <tr>\n",
              "      <th>16</th>\n",
              "      <td>RO</td>\n",
              "      <td>11</td>\n",
              "      <td>205</td>\n",
              "      <td>Porto Velho</td>\n",
              "      <td>539354</td>\n",
              "      <td>1100205</td>\n",
              "    </tr>\n",
              "    <tr>\n",
              "      <th>21</th>\n",
              "      <td>RO</td>\n",
              "      <td>11</td>\n",
              "      <td>304</td>\n",
              "      <td>Vilhena</td>\n",
              "      <td>102211</td>\n",
              "      <td>1100304</td>\n",
              "    </tr>\n",
              "    <tr>\n",
              "      <th>66</th>\n",
              "      <td>AC</td>\n",
              "      <td>12</td>\n",
              "      <td>401</td>\n",
              "      <td>Rio Branco</td>\n",
              "      <td>413418</td>\n",
              "      <td>1200401</td>\n",
              "    </tr>\n",
              "    <tr>\n",
              "      <th>...</th>\n",
              "      <td>...</td>\n",
              "      <td>...</td>\n",
              "      <td>...</td>\n",
              "      <td>...</td>\n",
              "      <td>...</td>\n",
              "      <td>...</td>\n",
              "    </tr>\n",
              "    <tr>\n",
              "      <th>5520</th>\n",
              "      <td>GO</td>\n",
              "      <td>52</td>\n",
              "      <td>18805</td>\n",
              "      <td>Rio Verde</td>\n",
              "      <td>241518</td>\n",
              "      <td>5218805</td>\n",
              "    </tr>\n",
              "    <tr>\n",
              "      <th>5546</th>\n",
              "      <td>GO</td>\n",
              "      <td>52</td>\n",
              "      <td>20454</td>\n",
              "      <td>Senador Canedo</td>\n",
              "      <td>118451</td>\n",
              "      <td>5220454</td>\n",
              "    </tr>\n",
              "    <tr>\n",
              "      <th>5555</th>\n",
              "      <td>GO</td>\n",
              "      <td>52</td>\n",
              "      <td>21403</td>\n",
              "      <td>Trindade</td>\n",
              "      <td>129823</td>\n",
              "      <td>5221403</td>\n",
              "    </tr>\n",
              "    <tr>\n",
              "      <th>5563</th>\n",
              "      <td>GO</td>\n",
              "      <td>52</td>\n",
              "      <td>21858</td>\n",
              "      <td>Valparaíso de Goiás</td>\n",
              "      <td>172135</td>\n",
              "      <td>5221858</td>\n",
              "    </tr>\n",
              "    <tr>\n",
              "      <th>5569</th>\n",
              "      <td>DF</td>\n",
              "      <td>53</td>\n",
              "      <td>108</td>\n",
              "      <td>Brasília</td>\n",
              "      <td>3055149</td>\n",
              "      <td>5300108</td>\n",
              "    </tr>\n",
              "  </tbody>\n",
              "</table>\n",
              "<p>326 rows × 6 columns</p>\n",
              "</div>"
            ],
            "text/plain": [
              "      uf  code_uf  code_city            city_name  population  code_ibge\n",
              "1     RO       11         23            Ariquemes      109523    1100023\n",
              "11    RO       11        122            Ji-Paraná      130009    1100122\n",
              "16    RO       11        205          Porto Velho      539354    1100205\n",
              "21    RO       11        304              Vilhena      102211    1100304\n",
              "66    AC       12        401           Rio Branco      413418    1200401\n",
              "...   ..      ...        ...                  ...         ...        ...\n",
              "5520  GO       52      18805            Rio Verde      241518    5218805\n",
              "5546  GO       52      20454       Senador Canedo      118451    5220454\n",
              "5555  GO       52      21403             Trindade      129823    5221403\n",
              "5563  GO       52      21858  Valparaíso de Goiás      172135    5221858\n",
              "5569  DF       53        108             Brasília     3055149    5300108\n",
              "\n",
              "[326 rows x 6 columns]"
            ]
          },
          "metadata": {
            "tags": []
          },
          "execution_count": 4
        }
      ]
    },
    {
      "cell_type": "code",
      "metadata": {
        "colab": {
          "base_uri": "https://localhost:8080/",
          "height": 406
        },
        "id": "MfVDnCAg7Njv",
        "outputId": "b7cd9cbe-4dcc-4a71-a776-dd1ccad3fcbb"
      },
      "source": [
        "regiaoI "
      ],
      "execution_count": null,
      "outputs": [
        {
          "output_type": "execute_result",
          "data": {
            "text/html": [
              "<div>\n",
              "<style scoped>\n",
              "    .dataframe tbody tr th:only-of-type {\n",
              "        vertical-align: middle;\n",
              "    }\n",
              "\n",
              "    .dataframe tbody tr th {\n",
              "        vertical-align: top;\n",
              "    }\n",
              "\n",
              "    .dataframe thead th {\n",
              "        text-align: right;\n",
              "    }\n",
              "</style>\n",
              "<table border=\"1\" class=\"dataframe\">\n",
              "  <thead>\n",
              "    <tr style=\"text-align: right;\">\n",
              "      <th></th>\n",
              "      <th>code_ibge</th>\n",
              "      <th>up</th>\n",
              "      <th>city</th>\n",
              "      <th>Vivo</th>\n",
              "      <th>TIM</th>\n",
              "      <th>Claro</th>\n",
              "      <th>Oi</th>\n",
              "      <th>Algar</th>\n",
              "      <th>Nextel</th>\n",
              "      <th>total</th>\n",
              "    </tr>\n",
              "  </thead>\n",
              "  <tbody>\n",
              "    <tr>\n",
              "      <th>0</th>\n",
              "      <td>2700102</td>\n",
              "      <td>AL</td>\n",
              "      <td>Água Branca</td>\n",
              "      <td>-</td>\n",
              "      <td>X</td>\n",
              "      <td>X</td>\n",
              "      <td>-</td>\n",
              "      <td>-</td>\n",
              "      <td>-</td>\n",
              "      <td>2</td>\n",
              "    </tr>\n",
              "    <tr>\n",
              "      <th>1</th>\n",
              "      <td>2700201</td>\n",
              "      <td>AL</td>\n",
              "      <td>Anadia</td>\n",
              "      <td>-</td>\n",
              "      <td>X</td>\n",
              "      <td>-</td>\n",
              "      <td>-</td>\n",
              "      <td>-</td>\n",
              "      <td>-</td>\n",
              "      <td>1</td>\n",
              "    </tr>\n",
              "    <tr>\n",
              "      <th>2</th>\n",
              "      <td>2700300</td>\n",
              "      <td>AL</td>\n",
              "      <td>Arapiraca</td>\n",
              "      <td>X</td>\n",
              "      <td>X</td>\n",
              "      <td>X</td>\n",
              "      <td>X</td>\n",
              "      <td>-</td>\n",
              "      <td>-</td>\n",
              "      <td>4</td>\n",
              "    </tr>\n",
              "    <tr>\n",
              "      <th>3</th>\n",
              "      <td>2700409</td>\n",
              "      <td>AL</td>\n",
              "      <td>Atalaia</td>\n",
              "      <td>-</td>\n",
              "      <td>X</td>\n",
              "      <td>X</td>\n",
              "      <td>-</td>\n",
              "      <td>-</td>\n",
              "      <td>-</td>\n",
              "      <td>2</td>\n",
              "    </tr>\n",
              "    <tr>\n",
              "      <th>4</th>\n",
              "      <td>2700508</td>\n",
              "      <td>AL</td>\n",
              "      <td>Barra de Santo Antônio</td>\n",
              "      <td>-</td>\n",
              "      <td>X</td>\n",
              "      <td>X</td>\n",
              "      <td>-</td>\n",
              "      <td>-</td>\n",
              "      <td>-</td>\n",
              "      <td>2</td>\n",
              "    </tr>\n",
              "    <tr>\n",
              "      <th>...</th>\n",
              "      <td>...</td>\n",
              "      <td>...</td>\n",
              "      <td>...</td>\n",
              "      <td>...</td>\n",
              "      <td>...</td>\n",
              "      <td>...</td>\n",
              "      <td>...</td>\n",
              "      <td>...</td>\n",
              "      <td>...</td>\n",
              "      <td>...</td>\n",
              "    </tr>\n",
              "    <tr>\n",
              "      <th>2689</th>\n",
              "      <td>2807105</td>\n",
              "      <td>SE</td>\n",
              "      <td>Simão Dias</td>\n",
              "      <td>X</td>\n",
              "      <td>X</td>\n",
              "      <td>X</td>\n",
              "      <td>X</td>\n",
              "      <td>-</td>\n",
              "      <td>-</td>\n",
              "      <td>4</td>\n",
              "    </tr>\n",
              "    <tr>\n",
              "      <th>2690</th>\n",
              "      <td>2807204</td>\n",
              "      <td>SE</td>\n",
              "      <td>Siriri</td>\n",
              "      <td>X</td>\n",
              "      <td>-</td>\n",
              "      <td>-</td>\n",
              "      <td>-</td>\n",
              "      <td>-</td>\n",
              "      <td>-</td>\n",
              "      <td>1</td>\n",
              "    </tr>\n",
              "    <tr>\n",
              "      <th>2691</th>\n",
              "      <td>2807402</td>\n",
              "      <td>SE</td>\n",
              "      <td>Tobias Barreto</td>\n",
              "      <td>X</td>\n",
              "      <td>X</td>\n",
              "      <td>X</td>\n",
              "      <td>X</td>\n",
              "      <td>-</td>\n",
              "      <td>-</td>\n",
              "      <td>4</td>\n",
              "    </tr>\n",
              "    <tr>\n",
              "      <th>2692</th>\n",
              "      <td>2807501</td>\n",
              "      <td>SE</td>\n",
              "      <td>Tomar do Geru</td>\n",
              "      <td>X</td>\n",
              "      <td>-</td>\n",
              "      <td>-</td>\n",
              "      <td>-</td>\n",
              "      <td>-</td>\n",
              "      <td>-</td>\n",
              "      <td>1</td>\n",
              "    </tr>\n",
              "    <tr>\n",
              "      <th>2693</th>\n",
              "      <td>2807600</td>\n",
              "      <td>SE</td>\n",
              "      <td>Umbaúba</td>\n",
              "      <td>X</td>\n",
              "      <td>X</td>\n",
              "      <td>X</td>\n",
              "      <td>-</td>\n",
              "      <td>-</td>\n",
              "      <td>-</td>\n",
              "      <td>3</td>\n",
              "    </tr>\n",
              "  </tbody>\n",
              "</table>\n",
              "<p>2694 rows × 10 columns</p>\n",
              "</div>"
            ],
            "text/plain": [
              "      code_ibge  up                    city Vivo  ... Oi Algar Nextel total\n",
              "0       2700102  AL             Água Branca    -  ...  -     -      -     2\n",
              "1       2700201  AL                  Anadia    -  ...  -     -      -     1\n",
              "2       2700300  AL               Arapiraca    X  ...  X     -      -     4\n",
              "3       2700409  AL                 Atalaia    -  ...  -     -      -     2\n",
              "4       2700508  AL  Barra de Santo Antônio    -  ...  -     -      -     2\n",
              "...         ...  ..                     ...  ...  ... ..   ...    ...   ...\n",
              "2689    2807105  SE              Simão Dias    X  ...  X     -      -     4\n",
              "2690    2807204  SE                  Siriri    X  ...  -     -      -     1\n",
              "2691    2807402  SE          Tobias Barreto    X  ...  X     -      -     4\n",
              "2692    2807501  SE           Tomar do Geru    X  ...  -     -      -     1\n",
              "2693    2807600  SE                 Umbaúba    X  ...  -     -      -     3\n",
              "\n",
              "[2694 rows x 10 columns]"
            ]
          },
          "metadata": {
            "tags": []
          },
          "execution_count": 5
        }
      ]
    },
    {
      "cell_type": "code",
      "metadata": {
        "id": "7s6uw_uH7NmG",
        "colab": {
          "base_uri": "https://localhost:8080/"
        },
        "outputId": "e69ef06c-8511-4db8-a464-2f5738b34599"
      },
      "source": [
        "# regiaoI_mais100k = pd.DataFrame()\n",
        "len(regiaoI.up.unique())"
      ],
      "execution_count": null,
      "outputs": [
        {
          "output_type": "execute_result",
          "data": {
            "text/plain": [
              "17"
            ]
          },
          "metadata": {
            "tags": []
          },
          "execution_count": 6
        }
      ]
    },
    {
      "cell_type": "code",
      "metadata": {
        "id": "U3RV63O7PGe1"
      },
      "source": [
        "# regiaoI\n",
        "labels = ['Vivo', 'Tim', 'Oi', 'Claro', 'Algar', 'Nextel']\n",
        "palette ={\"Vivo\": \"#380282\", \"Tim\": \"#040273\", \"Claro\":\"#be0119\",\"Oi\":\"#fcb001\", \"Nextel\": \"#c65102\", \"Algar\": \"#0485d1\"}\n"
      ],
      "execution_count": null,
      "outputs": []
    },
    {
      "cell_type": "code",
      "metadata": {
        "id": "YaN4OoCuQwHH",
        "colab": {
          "base_uri": "https://localhost:8080/",
          "height": 302
        },
        "outputId": "f4810993-8c6a-4b6d-9c91-c89945f3722a"
      },
      "source": [
        "# regiaoI.set_index([pd.Index(range(regiaoI.shape[0])), 'code_ibge'])\n",
        "# regiaoI.sort_index(inplace=True)\n",
        "vivo_rI = regiaoI[regiaoI.Vivo == 'X'].up.count()/regiaoI.shape[0]\n",
        "tim_rI = regiaoI[regiaoI.TIM == 'X'].up.count()/regiaoI.shape[0]\n",
        "oi_rI = regiaoI[regiaoI.Oi == 'X'].up.count()/regiaoI.shape[0]\n",
        "claro_rI = regiaoI[regiaoI.Claro == 'X'].up.count()/regiaoI.shape[0]\n",
        "algar_rI = regiaoI[regiaoI.Algar == 'X'].up.count()/regiaoI.shape[0]\n",
        "nextel_rI = regiaoI[regiaoI.Nextel == 'X'].up.count()/regiaoI.shape[0]\n",
        "\n",
        "values = [round(x*100, 2) for x in [vivo_rI, tim_rI, oi_rI, claro_rI, algar_rI, nextel_rI]]\n",
        "\n",
        "\n",
        "fig, ax = plt.subplots(figsize=(8, 4))\n",
        "\n",
        "# # remover grids e eixos\n",
        "ax.spines['right'].set_visible(False)\n",
        "ax.spines['left'].set_visible(False)\n",
        "ax.spines['top'].set_visible(False)\n",
        "ax.spines['bottom'].set_visible(False)\n",
        "\n",
        "# # remover eixo y\n",
        "plt.gca().axes.get_yaxis().set_visible(False)\n",
        "\n",
        "#criar função para dar labels automaticamente\n",
        "def autolabel(rects):\n",
        "    for rect in rects:\n",
        "        height = rect.get_height()\n",
        "        ax.annotate(\n",
        "                    '{}%'.format(height),\n",
        "                    xy=(rect.get_x() + rect.get_width()/2,  height),\n",
        "                    xytext=(0, 0),  # offset\n",
        "                    textcoords=\"offset points\",\n",
        "                    ha='center',\n",
        "                    va='bottom',\n",
        "                    fontsize=10,\n",
        "                    color=\"black\",\n",
        "                    )\n",
        "        \n",
        "# plotar labels dentro das barras\n",
        "# width_bar = 0.35\n",
        "\n",
        "d = pd.DataFrame(data = [labels ,values]).transpose()\n",
        "d.columns = ['labels', 'values']\n",
        "\n",
        "d = d.reset_index().sort_values('values', ascending=False)\n",
        "rects= ax.bar(np.arange(len(labels)) ,  d['values'])\n",
        "autolabel(rects)\n",
        "\n",
        "sns.barplot(x ='labels', y='values', data=d, palette=palette)  \n",
        "\n",
        "plt.xlabel(\"Operadora\")"
      ],
      "execution_count": null,
      "outputs": [
        {
          "output_type": "execute_result",
          "data": {
            "text/plain": [
              "Text(0.5, 0, 'Operadora')"
            ]
          },
          "metadata": {
            "tags": []
          },
          "execution_count": 10
        },
        {
          "output_type": "display_data",
          "data": {
            "image/png": "[encoded data removed]",
            "text/plain": [
              "<Figure size 576x288 with 1 Axes>"
            ]
          },
          "metadata": {
            "tags": [],
            "needs_background": "light"
          }
        }
      ]
    },
    {
      "cell_type": "code",
      "metadata": {
        "id": "mjMCI6uvhFzs"
      },
      "source": [
        ""
      ],
      "execution_count": null,
      "outputs": []
    },
    {
      "cell_type": "code",
      "metadata": {
        "colab": {
          "base_uri": "https://localhost:8080/"
        },
        "id": "JczdB6AOPtDq",
        "outputId": "a6ee549f-b83e-40d5-b956-e2a15752ab78"
      },
      "source": [
        "municipios\n",
        "regiaoII.up.nunique()"
      ],
      "execution_count": null,
      "outputs": [
        {
          "output_type": "execute_result",
          "data": {
            "text/plain": [
              "11"
            ]
          },
          "metadata": {
            "tags": []
          },
          "execution_count": 32
        }
      ]
    },
    {
      "cell_type": "code",
      "metadata": {
        "id": "emnTELelQ7cf",
        "colab": {
          "base_uri": "https://localhost:8080/",
          "height": 302
        },
        "outputId": "776bbab7-4d3e-4562-ce10-700ef25dbde7"
      },
      "source": [
        "vivo_rII = regiaoII[regiaoII.Vivo == 'X'].up.count()/regiaoII.shape[0]\n",
        "tim_rII = regiaoII[regiaoII.TIM == 'X'].up.count()/regiaoII.shape[0]\n",
        "oi_rII = regiaoII[regiaoII.Oi == 'X'].up.count()/regiaoII.shape[0]\n",
        "claro_rII = regiaoII[regiaoII.Claro == 'X'].up.count()/regiaoII.shape[0]\n",
        "algar_rII = regiaoII[regiaoII.Algar == 'X'].up.count()/regiaoII.shape[0]\n",
        "nextel_rII = regiaoII[regiaoII.Nextel == 'X'].up.count()/regiaoII.shape[0]\n",
        "\n",
        "# labels = ['Vivo', 'Tim', 'Claro', 'Algar', 'Nextel']\n",
        "values = [round(x*100, 2) for x in [vivo_rII, tim_rII,oi_rII, claro_rII, algar_rII, nextel_rII]]\n",
        "\n",
        "\n",
        "fig, ax = plt.subplots(figsize=(8, 4))\n",
        "\n",
        "# # remover grids e eixos\n",
        "ax.spines['right'].set_visible(False)\n",
        "ax.spines['left'].set_visible(False)\n",
        "ax.spines['top'].set_visible(False)\n",
        "ax.spines['bottom'].set_visible(False)\n",
        "\n",
        "# # remover eixo y\n",
        "plt.gca().axes.get_yaxis().set_visible(False)\n",
        "\n",
        "#criar função para dar labels automaticamente\n",
        "def autolabel(rects):\n",
        "    for rect in rects:\n",
        "        height = rect.get_height()\n",
        "        ax.annotate(\n",
        "                    '{}%'.format(height),\n",
        "                    xy=(rect.get_x() + rect.get_width()/2,  height),\n",
        "                    xytext=(0, 0),  # offset\n",
        "                    textcoords=\"offset points\",\n",
        "                    ha='center',\n",
        "                    va='bottom',\n",
        "                    fontsize=10,\n",
        "                    color=\"black\",\n",
        "                    )\n",
        "        \n",
        "# plotar labels dentro das barras\n",
        "# width_bar = 0.35\n",
        "\n",
        "\n",
        "d = pd.DataFrame(data = [labels ,values]).transpose()\n",
        "d.columns = ['labels', 'values']\n",
        "d = d.reset_index().sort_values('values', ascending=False)\n",
        "rects= ax.bar(np.arange(len(labels)) ,  d['values'])\n",
        "autolabel(rects)\n",
        "sns.barplot(x ='labels', y='values', data=d, palette=palette)  \n",
        "\n",
        "plt.xlabel(\"Operadora\")"
      ],
      "execution_count": null,
      "outputs": [
        {
          "output_type": "execute_result",
          "data": {
            "text/plain": [
              "Text(0.5, 0, 'Operadora')"
            ]
          },
          "metadata": {
            "tags": []
          },
          "execution_count": 12
        },
        {
          "output_type": "display_data",
          "data": {
            "image/png": "[encoded data removed]",
            "text/plain": [
              "<Figure size 576x288 with 1 Axes>"
            ]
          },
          "metadata": {
            "tags": [],
            "needs_background": "light"
          }
        }
      ]
    },
    {
      "cell_type": "code",
      "metadata": {
        "id": "VBj6j_26Q7qp"
      },
      "source": [
        "regiaoII[regiaoII.Nextel == 'X']"
      ],
      "execution_count": null,
      "outputs": []
    },
    {
      "cell_type": "code",
      "metadata": {
        "id": "fEVlZ__oTsg8"
      },
      "source": [
        "regiaoIII.shape[0]\n",
        "regiaoIII.up.nunique()"
      ],
      "execution_count": null,
      "outputs": []
    },
    {
      "cell_type": "code",
      "metadata": {
        "id": "YAGw2KO3QM1f",
        "colab": {
          "base_uri": "https://localhost:8080/",
          "height": 302
        },
        "outputId": "cf70453b-9536-4d9a-fe6a-a488e9b99ae7"
      },
      "source": [
        "vivo_rIII = regiaoIII[regiaoIII.Vivo == 'X'].up.count()/regiaoIII.shape[0]\n",
        "tim_rIII = regiaoIII[regiaoIII.TIM == 'X'].up.count()/regiaoIII.shape[0]\n",
        "oi_rIII = regiaoIII[regiaoIII.Oi == 'X'].up.count()/regiaoIII.shape[0]\n",
        "claro_rIII = regiaoIII[regiaoIII.Claro == 'X'].up.count()/regiaoIII.shape[0]\n",
        "algar_rIII = regiaoIII[regiaoIII.Algar == 'X'].up.count()/regiaoIII.shape[0]\n",
        "nextel_rIII = regiaoIII[regiaoIII.Nextel == 'X'].up.count()/regiaoIII.shape[0]\n",
        "\n",
        "# labels = ['Vivo', 'Tim', 'Claro', 'Algar', 'Nextel']\n",
        "values = [round(x*100, 2) for x in [vivo_rIII, tim_rIII,oi_rIII, claro_rIII, algar_rIII, nextel_rIII]]\n",
        "\n",
        "\n",
        "fig, ax = plt.subplots(figsize=(8, 4))\n",
        "\n",
        "# # remover grids e eixos\n",
        "ax.spines['right'].set_visible(False)\n",
        "ax.spines['left'].set_visible(False)\n",
        "ax.spines['top'].set_visible(False)\n",
        "ax.spines['bottom'].set_visible(False)\n",
        "\n",
        "# # remover eixo y\n",
        "plt.gca().axes.get_yaxis().set_visible(False)\n",
        "\n",
        "#criar função para dar labels automaticamente\n",
        "def autolabel(rects):\n",
        "    for rect in rects:\n",
        "        height = rect.get_height()\n",
        "        ax.annotate(\n",
        "                    '{}%'.format(height),\n",
        "                    xy=(rect.get_x() + rect.get_width()/2,  height),\n",
        "                    xytext=(0, 0),  # offset\n",
        "                    textcoords=\"offset points\",\n",
        "                    ha='center',\n",
        "                    va='bottom',\n",
        "                    fontsize=10,\n",
        "                    color=\"black\",\n",
        "                    )\n",
        "        \n",
        "# plotar labels dentro das barras\n",
        "# width_bar = 0.35\n",
        "\n",
        "\n",
        "d = pd.DataFrame(data = [labels ,values]).transpose()\n",
        "d.columns = ['labels', 'values']\n",
        "d = d.reset_index().sort_values('values', ascending=False)\n",
        "rects= ax.bar(np.arange(len(labels)) ,  d['values'])\n",
        "autolabel(rects)\n",
        "sns.barplot(x ='labels', y='values', data=d, palette=palette)  \n",
        "plt.xlabel(\"Operadora\")"
      ],
      "execution_count": null,
      "outputs": [
        {
          "output_type": "execute_result",
          "data": {
            "text/plain": [
              "Text(0.5, 0, 'Operadora')"
            ]
          },
          "metadata": {
            "tags": []
          },
          "execution_count": 13
        },
        {
          "output_type": "display_data",
          "data": {
            "image/png": "[encoded data removed]",
            "text/plain": [
              "<Figure size 576x288 with 1 Axes>"
            ]
          },
          "metadata": {
            "tags": [],
            "needs_background": "light"
          }
        }
      ]
    },
    {
      "cell_type": "code",
      "metadata": {
        "id": "KMKndFds7NoV"
      },
      "source": [
        ""
      ],
      "execution_count": null,
      "outputs": []
    },
    {
      "cell_type": "code",
      "metadata": {
        "colab": {
          "base_uri": "https://localhost:8080/"
        },
        "id": "EiVELDUr7Nqu",
        "outputId": "d4a083c3-5a87-4968-809d-1783be942381"
      },
      "source": [
        "regiapI_mais100k = municipios_mais100k.set_index('code_ibge').join(regiaoI.set_index('code_ibge'), how='inner')\n",
        "# regiapI_mais100k.sort_index(inplace=True)\n",
        "\n",
        "regiapII_mais100k = municipios_mais100k.set_index('code_ibge').join(regiaoII.set_index('code_ibge'), how='inner')\n",
        "# regiapII_mais100k.sort_index(inplace=True)\n",
        "\n",
        "regiapIII_mais100k = municipios_mais100k.set_index('code_ibge').join(regiaoIII.set_index('code_ibge'), how='inner')\n",
        "# regiapIII_mais100k.sort_index(inplace=True)\n",
        "\n",
        "regiapI_mais100k.shape[0] + regiapII_mais100k.shape[0] + regiapIII_mais100k.shape[0]"
      ],
      "execution_count": null,
      "outputs": [
        {
          "output_type": "execute_result",
          "data": {
            "text/plain": [
              "326"
            ]
          },
          "metadata": {
            "tags": []
          },
          "execution_count": 14
        }
      ]
    },
    {
      "cell_type": "code",
      "metadata": {
        "id": "OX2YUSl57NtN"
      },
      "source": [
        "# regiapI_mais100k\n"
      ],
      "execution_count": null,
      "outputs": []
    },
    {
      "cell_type": "code",
      "metadata": {
        "id": "4Pivc0_BgUYA"
      },
      "source": [
        "regiapIII_mais100k"
      ],
      "execution_count": null,
      "outputs": []
    },
    {
      "cell_type": "code",
      "metadata": {
        "colab": {
          "base_uri": "https://localhost:8080/",
          "height": 302
        },
        "id": "lbkBJRmh7Nv5",
        "outputId": "6fb07b20-898f-4e81-8b87-e708ada07b34"
      },
      "source": [
        "vivo_rI = regiapI_mais100k[regiapI_mais100k.Vivo == 'X'].uf.count()/regiapI_mais100k.shape[0]\n",
        "tim_rI = regiapI_mais100k[regiapI_mais100k.TIM == 'X'].uf.count()/regiapI_mais100k.shape[0]\n",
        "oi_rI = regiapI_mais100k[regiapI_mais100k.Oi == 'X'].uf.count()/regiapI_mais100k.shape[0]\n",
        "claro_rI = regiapI_mais100k[regiapI_mais100k.Claro == 'X'].uf.count()/regiapI_mais100k.shape[0]\n",
        "algar_rI = regiapI_mais100k[regiapI_mais100k.Algar == 'X'].uf.count()/regiapI_mais100k.shape[0]\n",
        "nextel_rI = regiapI_mais100k[regiapI_mais100k.Nextel == 'X'].uf.count()/regiapI_mais100k.shape[0]\n",
        "\n",
        "\n",
        "values = [round(x*100, 2) for x in [vivo_rI, tim_rI, oi_rI, claro_rI, algar_rI, nextel_rI]]\n",
        "\n",
        "\n",
        "fig, ax = plt.subplots(figsize=(8, 4))\n",
        "\n",
        "# # remover grids e eixos\n",
        "ax.spines['right'].set_visible(False)\n",
        "ax.spines['left'].set_visible(False)\n",
        "ax.spines['top'].set_visible(False)\n",
        "ax.spines['bottom'].set_visible(False)\n",
        "\n",
        "# # remover eixo y\n",
        "plt.gca().axes.get_yaxis().set_visible(False)\n",
        "\n",
        "#criar função para dar labels automaticamente\n",
        "def autolabel(rects):\n",
        "    for rect in rects:\n",
        "        height = rect.get_height()\n",
        "        ax.annotate(\n",
        "                    '{}%'.format(height),\n",
        "                    xy=(rect.get_x() + rect.get_width()/2,  height),\n",
        "                    xytext=(0, 0),  # offset\n",
        "                    textcoords=\"offset points\",\n",
        "                    ha='center',\n",
        "                    va='bottom',\n",
        "                    fontsize=10,\n",
        "                    color=\"black\",\n",
        "                    )\n",
        "        \n",
        "# plotar labels dentro das barras\n",
        "# width_bar = 0.35\n",
        "\n",
        "\n",
        "d = pd.DataFrame(data = [labels ,values]).transpose()\n",
        "d.columns = ['labels', 'values']\n",
        "d = d.reset_index().sort_values('values', ascending=False)\n",
        "rects= ax.bar(np.arange(len(labels)) ,  d['values'])\n",
        "autolabel(rects)\n",
        "sns.barplot(x ='labels', y='values', data=d, palette=palette)  \n",
        "plt.xlabel(\"Operadora\")"
      ],
      "execution_count": null,
      "outputs": [
        {
          "output_type": "execute_result",
          "data": {
            "text/plain": [
              "Text(0.5, 0, 'Operadora')"
            ]
          },
          "metadata": {
            "tags": []
          },
          "execution_count": 22
        },
        {
          "output_type": "display_data",
          "data": {
            "image/png": "[encoded data removed]",
            "text/plain": [
              "<Figure size 576x288 with 1 Axes>"
            ]
          },
          "metadata": {
            "tags": [],
            "needs_background": "light"
          }
        }
      ]
    },
    {
      "cell_type": "code",
      "metadata": {
        "id": "ZQ3C92VqUqys"
      },
      "source": [
        "regiapI_mais100k[regiapI_mais100k.Claro != 'X']"
      ],
      "execution_count": null,
      "outputs": []
    },
    {
      "cell_type": "code",
      "metadata": {
        "colab": {
          "base_uri": "https://localhost:8080/",
          "height": 302
        },
        "id": "ayjq8yY0Uq1F",
        "outputId": "3b542a89-8e04-4fe0-b0fa-608508dfdda1"
      },
      "source": [
        "vivo_rII = regiapII_mais100k[regiapII_mais100k.Vivo == 'X'].uf.count()/regiapII_mais100k.shape[0]\n",
        "tim_rII = regiapII_mais100k[regiapII_mais100k.TIM == 'X'].uf.count()/regiapII_mais100k.shape[0]\n",
        "oi_rII = regiapII_mais100k[regiapII_mais100k.Oi == 'X'].uf.count()/regiapII_mais100k.shape[0]\n",
        "claro_rII = regiapII_mais100k[regiapII_mais100k.Claro == 'X'].uf.count()/regiapII_mais100k.shape[0]\n",
        "algar_rII = regiapII_mais100k[regiapII_mais100k.Algar == 'X'].uf.count()/regiapII_mais100k.shape[0]\n",
        "nextel_rII = regiapII_mais100k[regiapII_mais100k.Nextel == 'X'].uf.count()/regiapII_mais100k.shape[0]\n",
        "\n",
        "# labels = ['Vivo', 'Tim', 'Claro', 'Algar', 'Nextel']\n",
        "values = [round(x*100, 2) for x in [vivo_rII, tim_rII,oi_rII, claro_rII, algar_rII, nextel_rII]]\n",
        "\n",
        "fig, ax = plt.subplots(figsize=(8, 4))\n",
        "\n",
        "# # remover grids e eixos\n",
        "ax.spines['right'].set_visible(False)\n",
        "ax.spines['left'].set_visible(False)\n",
        "ax.spines['top'].set_visible(False)\n",
        "ax.spines['bottom'].set_visible(False)\n",
        "\n",
        "# # remover eixo y\n",
        "plt.gca().axes.get_yaxis().set_visible(False)\n",
        "\n",
        "#criar função para dar labels automaticamente\n",
        "def autolabel(rects):\n",
        "    for rect in rects:\n",
        "        height = rect.get_height()\n",
        "        ax.annotate(\n",
        "                    '{}%'.format(height),\n",
        "                    xy=(rect.get_x() + rect.get_width()/2,  height),\n",
        "                    xytext=(0, 0),  # offset\n",
        "                    textcoords=\"offset points\",\n",
        "                    ha='center',\n",
        "                    va='bottom',\n",
        "                    fontsize=10,\n",
        "                    color=\"black\",\n",
        "                    )\n",
        "        \n",
        "# plotar labels dentro das barras\n",
        "# width_bar = 0.35\n",
        "\n",
        "\n",
        "d = pd.DataFrame(data = [labels ,values]).transpose()\n",
        "d.columns = ['labels', 'values']\n",
        "d = d.reset_index().sort_values('values', ascending=False)\n",
        "rects= ax.bar(np.arange(len(labels)) ,  d['values'])\n",
        "autolabel(rects)\n",
        "sns.barplot(x ='labels', y='values', data=d, palette=palette)  \n",
        "plt.xlabel(\"Operadora\")"
      ],
      "execution_count": null,
      "outputs": [
        {
          "output_type": "execute_result",
          "data": {
            "text/plain": [
              "Text(0.5, 0, 'Operadora')"
            ]
          },
          "metadata": {
            "tags": []
          },
          "execution_count": 16
        },
        {
          "output_type": "display_data",
          "data": {
            "image/png": "[encoded data removed]",
            "text/plain": [
              "<Figure size 576x288 with 1 Axes>"
            ]
          },
          "metadata": {
            "tags": [],
            "needs_background": "light"
          }
        }
      ]
    },
    {
      "cell_type": "code",
      "metadata": {
        "colab": {
          "base_uri": "https://localhost:8080/",
          "height": 302
        },
        "id": "KaCfLO_IUq3u",
        "outputId": "ff29943f-668f-4c06-9f5d-cde1cf54bce2"
      },
      "source": [
        "vivo_rIII = regiapIII_mais100k[regiapIII_mais100k.Vivo == 'X'].uf.count()/regiapIII_mais100k.shape[0]\n",
        "tim_rIII = regiapIII_mais100k[regiapIII_mais100k.TIM == 'X'].uf.count()/regiapIII_mais100k.shape[0]\n",
        "oi_rIII = regiapIII_mais100k[regiapIII_mais100k.Oi == 'X'].uf.count()/regiapIII_mais100k.shape[0]\n",
        "claro_rIII = regiapIII_mais100k[regiapIII_mais100k.Claro == 'X'].uf.count()/regiapIII_mais100k.shape[0]\n",
        "algar_rIII = regiapIII_mais100k[regiapIII_mais100k.Algar == 'X'].uf.count()/regiapIII_mais100k.shape[0]\n",
        "nextel_rIII = regiapIII_mais100k[regiapIII_mais100k.Nextel == 'X'].uf.count()/regiapIII_mais100k.shape[0]\n",
        "\n",
        "# labels = ['Vivo', 'Tim', 'Claro', 'Algar', 'Nextel']\n",
        "values = [round(x*100, 2) for x in [vivo_rIII, tim_rIII,oi_rIII, claro_rIII, algar_rIII, nextel_rIII]]\n",
        "\n",
        "fig, ax = plt.subplots(figsize=(8, 4))\n",
        "\n",
        "# # remover grids e eixos\n",
        "ax.spines['right'].set_visible(False)\n",
        "ax.spines['left'].set_visible(False)\n",
        "ax.spines['top'].set_visible(False)\n",
        "ax.spines['bottom'].set_visible(False)\n",
        "\n",
        "# # remover eixo y\n",
        "plt.gca().axes.get_yaxis().set_visible(False)\n",
        "\n",
        "#criar função para dar labels automaticamente\n",
        "def autolabel(rects):\n",
        "    for rect in rects:\n",
        "        height = rect.get_height()\n",
        "        ax.annotate(\n",
        "                    '{}%'.format(height),\n",
        "                    xy=(rect.get_x() + rect.get_width()/2,  height),\n",
        "                    xytext=(0, 0),  # offset\n",
        "                    textcoords=\"offset points\",\n",
        "                    ha='center',\n",
        "                    va='bottom',\n",
        "                    fontsize=10,\n",
        "                    color=\"black\",\n",
        "                    )\n",
        "        \n",
        "# plotar labels dentro das barras\n",
        "# width_bar = 0.35\n",
        "\n",
        "\n",
        "d = pd.DataFrame(data = [labels ,values]).transpose()\n",
        "d.columns = ['labels', 'values']\n",
        "d = d.reset_index().sort_values('values', ascending=False)\n",
        "rects= ax.bar(np.arange(len(labels)) ,  d['values'])\n",
        "autolabel(rects)\n",
        "sns.barplot(x ='labels', y='values', data=d, palette=palette)  \n",
        "plt.xlabel(\"Operadora\")"
      ],
      "execution_count": null,
      "outputs": [
        {
          "output_type": "execute_result",
          "data": {
            "text/plain": [
              "Text(0.5, 0, 'Operadora')"
            ]
          },
          "metadata": {
            "tags": []
          },
          "execution_count": 21
        },
        {
          "output_type": "display_data",
          "data": {
            "image/png": "[encoded data removed]",
            "text/plain": [
              "<Figure size 576x288 with 1 Axes>"
            ]
          },
          "metadata": {
            "tags": [],
            "needs_background": "light"
          }
        }
      ]
    },
    {
      "cell_type": "code",
      "metadata": {
        "id": "nis2t6BSYMNC"
      },
      "source": [
        "\n",
        "# d = pd.DataFrame(data = [labels ,values]).transpose()\n",
        "# d.columns = ['labels', 'values']\n",
        "# d = d.reset_index().sort_values('values', ascending=False)\n",
        "# sns.barplot(x ='labels', y='values', data=d, palette=palette)  \n"
      ],
      "execution_count": null,
      "outputs": []
    },
    {
      "cell_type": "code",
      "metadata": {
        "id": "iq1lPjyXUq6X"
      },
      "source": [
        "# operadoras = operadoras.transpose()\n",
        "op = operadoras.transpose()\n",
        "new_header = op.iloc[0] #grab the first row for the header\n",
        "op = op[1:] #take the data less the header row\n",
        "op.columns = new_header #set the header row as the df header\n",
        "op.rename(columns=operadoras.iloc[0])\n",
        "op.drop(columns='Total', inplace=True)"
      ],
      "execution_count": null,
      "outputs": []
    },
    {
      "cell_type": "code",
      "metadata": {
        "id": "DcWguC3Sc8d_",
        "colab": {
          "base_uri": "https://localhost:8080/",
          "height": 412
        },
        "outputId": "773c26f0-fa9e-4810-d69c-40c9a956c57a"
      },
      "source": [
        "op.index = ['01/12/18', '01/12/19', '01/10/20', '01/11/20']\n",
        "plt.figure(figsize=(8,6))\n",
        "sns.lineplot(data=op.apply(pd.to_numeric), palette=palette)\n",
        "plt.legend(bbox_to_anchor=(1.05, 1), loc=2, borderaxespad=0.)\n",
        "plt.ylabel(\"Quantidade municípios\") \n",
        "plt.xlabel(\"Ano\")"
      ],
      "execution_count": null,
      "outputs": [
        {
          "output_type": "execute_result",
          "data": {
            "text/plain": [
              "Text(0.5, 0, 'Ano')"
            ]
          },
          "metadata": {
            "tags": []
          },
          "execution_count": 20
        },
        {
          "output_type": "display_data",
          "data": {
            "image/png": "[encoded data removed]",
            "text/plain": [
              "<Figure size 576x432 with 1 Axes>"
            ]
          },
          "metadata": {
            "tags": [],
            "needs_background": "light"
          }
        }
      ]
    },
    {
      "cell_type": "code",
      "metadata": {
        "id": "MvTGQNvTa3KB"
      },
      "source": [
        "# sns.lineplot(y=op.TIM1, x=op.index)\n"
      ],
      "execution_count": null,
      "outputs": []
    },
    {
      "cell_type": "code",
      "metadata": {
        "id": "8T0MvPE_a3M3"
      },
      "source": [
        "# pd.to_numeric(op)\n"
      ],
      "execution_count": null,
      "outputs": []
    },
    {
      "cell_type": "markdown",
      "metadata": {
        "id": "TqeaCtOkjCPJ"
      },
      "source": [
        "#wef"
      ]
    },
    {
      "cell_type": "code",
      "metadata": {
        "id": "u2sYlPrqa3Pf"
      },
      "source": [
        "data_brazil = datawef[datawef['Country Name'] == 'Brazil']"
      ],
      "execution_count": null,
      "outputs": []
    },
    {
      "cell_type": "code",
      "metadata": {
        "id": "-fi9MxO2a3SG"
      },
      "source": [
        "# data_brazil.drop(inplace=True, columns=['Country ISO3', 'Country Name', 'Indicator Id',\n",
        "#        'Subindicator Type'] )"
      ],
      "execution_count": null,
      "outputs": []
    },
    {
      "cell_type": "code",
      "metadata": {
        "id": "h1FhmObBa3X0",
        "colab": {
          "base_uri": "https://localhost:8080/"
        },
        "outputId": "c26e5cfc-3754-4ae4-8d9a-a8fe495907ed"
      },
      "source": [
        "data_brazil['Subindicator Type'].unique()"
      ],
      "execution_count": null,
      "outputs": [
        {
          "output_type": "execute_result",
          "data": {
            "text/plain": [
              "array(['Index (1-7)', 'Rank', '% software installed', '# procedures',\n",
              "       'time', '% profits', '% enrollment', 'kWh/capita', '% population',\n",
              "       'kb/s', 'per million pop.', '$/min', '$/month', 'Index (0-2)',\n",
              "       '% adults', 'per 100 pop.', '% individuals', '% households',\n",
              "       'Index (0-1)', '% workforce', 'Index'], dtype=object)"
            ]
          },
          "metadata": {
            "tags": []
          },
          "execution_count": 132
        }
      ]
    },
    {
      "cell_type": "code",
      "metadata": {
        "id": "2N6NGu-xlJTP"
      },
      "source": [
        "# data_brazil[data_brazil['Subindicator Type'] == '']"
      ],
      "execution_count": null,
      "outputs": []
    },
    {
      "cell_type": "code",
      "metadata": {
        "colab": {
          "base_uri": "https://localhost:8080/",
          "height": 855
        },
        "id": "lsj6gk_FlJV_",
        "outputId": "652f0042-bfe8-4170-f7d2-20cdeda0d877"
      },
      "source": [
        "data_brazil[data_brazil['Subindicator Type'] == 'Index (1-7)']"
      ],
      "execution_count": null,
      "outputs": [
        {
          "output_type": "execute_result",
          "data": {
            "text/html": [
              "<div>\n",
              "<style scoped>\n",
              "    .dataframe tbody tr th:only-of-type {\n",
              "        vertical-align: middle;\n",
              "    }\n",
              "\n",
              "    .dataframe tbody tr th {\n",
              "        vertical-align: top;\n",
              "    }\n",
              "\n",
              "    .dataframe thead th {\n",
              "        text-align: right;\n",
              "    }\n",
              "</style>\n",
              "<table border=\"1\" class=\"dataframe\">\n",
              "  <thead>\n",
              "    <tr style=\"text-align: right;\">\n",
              "      <th></th>\n",
              "      <th>Country ISO3</th>\n",
              "      <th>Country Name</th>\n",
              "      <th>Indicator Id</th>\n",
              "      <th>Indicator</th>\n",
              "      <th>Subindicator Type</th>\n",
              "      <th>2012</th>\n",
              "      <th>2013</th>\n",
              "      <th>2014</th>\n",
              "      <th>2015</th>\n",
              "      <th>2016</th>\n",
              "    </tr>\n",
              "  </thead>\n",
              "  <tbody>\n",
              "    <tr>\n",
              "      <th>2372</th>\n",
              "      <td>BRA</td>\n",
              "      <td>Brazil</td>\n",
              "      <td>3365</td>\n",
              "      <td>Effectiveness of law-making bodies, 1-7 (best)</td>\n",
              "      <td>Index (1-7)</td>\n",
              "      <td>2.737909</td>\n",
              "      <td>2.700909</td>\n",
              "      <td>2.586913</td>\n",
              "      <td>2.540074</td>\n",
              "      <td>2.397888</td>\n",
              "    </tr>\n",
              "    <tr>\n",
              "      <th>2374</th>\n",
              "      <td>BRA</td>\n",
              "      <td>Brazil</td>\n",
              "      <td>3367</td>\n",
              "      <td>Laws relating to ICTs, 1-7 (best)</td>\n",
              "      <td>Index (1-7)</td>\n",
              "      <td>4.449333</td>\n",
              "      <td>4.396980</td>\n",
              "      <td>4.174029</td>\n",
              "      <td>3.858725</td>\n",
              "      <td>3.741689</td>\n",
              "    </tr>\n",
              "    <tr>\n",
              "      <th>2376</th>\n",
              "      <td>BRA</td>\n",
              "      <td>Brazil</td>\n",
              "      <td>3369</td>\n",
              "      <td>Judicial independence, 1-7 (best)</td>\n",
              "      <td>Index (1-7)</td>\n",
              "      <td>3.736586</td>\n",
              "      <td>3.750626</td>\n",
              "      <td>3.867226</td>\n",
              "      <td>3.553158</td>\n",
              "      <td>3.380492</td>\n",
              "    </tr>\n",
              "    <tr>\n",
              "      <th>2378</th>\n",
              "      <td>BRA</td>\n",
              "      <td>Brazil</td>\n",
              "      <td>3371</td>\n",
              "      <td>Efficiency of legal system in settling dispute...</td>\n",
              "      <td>Index (1-7)</td>\n",
              "      <td>3.497260</td>\n",
              "      <td>3.473185</td>\n",
              "      <td>3.301620</td>\n",
              "      <td>3.204778</td>\n",
              "      <td>2.766236</td>\n",
              "    </tr>\n",
              "    <tr>\n",
              "      <th>2380</th>\n",
              "      <td>BRA</td>\n",
              "      <td>Brazil</td>\n",
              "      <td>3373</td>\n",
              "      <td>Efficiency of legal system in challenging regs...</td>\n",
              "      <td>Index (1-7)</td>\n",
              "      <td>3.659154</td>\n",
              "      <td>3.833737</td>\n",
              "      <td>3.509144</td>\n",
              "      <td>3.056239</td>\n",
              "      <td>2.937018</td>\n",
              "    </tr>\n",
              "    <tr>\n",
              "      <th>2382</th>\n",
              "      <td>BRA</td>\n",
              "      <td>Brazil</td>\n",
              "      <td>3375</td>\n",
              "      <td>Intellectual property protection, 1-7 (best)</td>\n",
              "      <td>Index (1-7)</td>\n",
              "      <td>3.222128</td>\n",
              "      <td>3.495448</td>\n",
              "      <td>3.539864</td>\n",
              "      <td>3.250404</td>\n",
              "      <td>3.675650</td>\n",
              "    </tr>\n",
              "    <tr>\n",
              "      <th>2390</th>\n",
              "      <td>BRA</td>\n",
              "      <td>Brazil</td>\n",
              "      <td>3383</td>\n",
              "      <td>Availability of latest technologies, 1-7 (best)</td>\n",
              "      <td>Index (1-7)</td>\n",
              "      <td>5.390267</td>\n",
              "      <td>5.319829</td>\n",
              "      <td>5.054831</td>\n",
              "      <td>4.711750</td>\n",
              "      <td>4.469284</td>\n",
              "    </tr>\n",
              "    <tr>\n",
              "      <th>2392</th>\n",
              "      <td>BRA</td>\n",
              "      <td>Brazil</td>\n",
              "      <td>3385</td>\n",
              "      <td>Venture capital availability, 1-7 (=best)</td>\n",
              "      <td>Index (1-7)</td>\n",
              "      <td>2.801857</td>\n",
              "      <td>2.821424</td>\n",
              "      <td>2.723249</td>\n",
              "      <td>2.571748</td>\n",
              "      <td>2.510984</td>\n",
              "    </tr>\n",
              "    <tr>\n",
              "      <th>2400</th>\n",
              "      <td>BRA</td>\n",
              "      <td>Brazil</td>\n",
              "      <td>3393</td>\n",
              "      <td>Intensity of local competition, 1-7 (best)</td>\n",
              "      <td>Index (1-7)</td>\n",
              "      <td>5.160945</td>\n",
              "      <td>5.140540</td>\n",
              "      <td>4.981935</td>\n",
              "      <td>5.271598</td>\n",
              "      <td>5.371110</td>\n",
              "    </tr>\n",
              "    <tr>\n",
              "      <th>2404</th>\n",
              "      <td>BRA</td>\n",
              "      <td>Brazil</td>\n",
              "      <td>3397</td>\n",
              "      <td>Quality of management schools, 1-7 (best)</td>\n",
              "      <td>Index (1-7)</td>\n",
              "      <td>4.295027</td>\n",
              "      <td>4.424541</td>\n",
              "      <td>4.542627</td>\n",
              "      <td>4.530422</td>\n",
              "      <td>3.952464</td>\n",
              "    </tr>\n",
              "    <tr>\n",
              "      <th>2406</th>\n",
              "      <td>BRA</td>\n",
              "      <td>Brazil</td>\n",
              "      <td>3399</td>\n",
              "      <td>Gov't procurement of advanced tech, 1-7 (best)</td>\n",
              "      <td>Index (1-7)</td>\n",
              "      <td>3.883338</td>\n",
              "      <td>3.760752</td>\n",
              "      <td>3.489464</td>\n",
              "      <td>3.368313</td>\n",
              "      <td>3.050402</td>\n",
              "    </tr>\n",
              "    <tr>\n",
              "      <th>2422</th>\n",
              "      <td>BRA</td>\n",
              "      <td>Brazil</td>\n",
              "      <td>3415</td>\n",
              "      <td>Quality of educational system, 1-7 (best)</td>\n",
              "      <td>Index (1-7)</td>\n",
              "      <td>3.005410</td>\n",
              "      <td>2.968220</td>\n",
              "      <td>2.978993</td>\n",
              "      <td>2.720419</td>\n",
              "      <td>2.442969</td>\n",
              "    </tr>\n",
              "    <tr>\n",
              "      <th>2424</th>\n",
              "      <td>BRA</td>\n",
              "      <td>Brazil</td>\n",
              "      <td>3417</td>\n",
              "      <td>Quality of math &amp; science education, 1-7 (best)</td>\n",
              "      <td>Index (1-7)</td>\n",
              "      <td>2.691560</td>\n",
              "      <td>2.559866</td>\n",
              "      <td>2.557853</td>\n",
              "      <td>2.647589</td>\n",
              "      <td>2.500546</td>\n",
              "    </tr>\n",
              "    <tr>\n",
              "      <th>2440</th>\n",
              "      <td>BRA</td>\n",
              "      <td>Brazil</td>\n",
              "      <td>3435</td>\n",
              "      <td>Use of virtual social networks, 1-7 (best)</td>\n",
              "      <td>Index (1-7)</td>\n",
              "      <td>5.452521</td>\n",
              "      <td>5.766469</td>\n",
              "      <td>6.031967</td>\n",
              "      <td>5.995501</td>\n",
              "      <td>5.851820</td>\n",
              "    </tr>\n",
              "    <tr>\n",
              "      <th>2442</th>\n",
              "      <td>BRA</td>\n",
              "      <td>Brazil</td>\n",
              "      <td>3437</td>\n",
              "      <td>Firm-level technology absorption, 1-7 (best)</td>\n",
              "      <td>Index (1-7)</td>\n",
              "      <td>5.156306</td>\n",
              "      <td>5.154538</td>\n",
              "      <td>4.999348</td>\n",
              "      <td>4.770460</td>\n",
              "      <td>4.770460</td>\n",
              "    </tr>\n",
              "    <tr>\n",
              "      <th>2444</th>\n",
              "      <td>BRA</td>\n",
              "      <td>Brazil</td>\n",
              "      <td>3439</td>\n",
              "      <td>Capacity for innovation, 1-7 (best)</td>\n",
              "      <td>Index (1-7)</td>\n",
              "      <td>3.785438</td>\n",
              "      <td>3.738288</td>\n",
              "      <td>4.018312</td>\n",
              "      <td>4.095007</td>\n",
              "      <td>3.818166</td>\n",
              "    </tr>\n",
              "    <tr>\n",
              "      <th>2448</th>\n",
              "      <td>BRA</td>\n",
              "      <td>Brazil</td>\n",
              "      <td>3443</td>\n",
              "      <td>ICT use for business-to-business transactions,...</td>\n",
              "      <td>Index (1-7)</td>\n",
              "      <td>NaN</td>\n",
              "      <td>5.456107</td>\n",
              "      <td>5.111247</td>\n",
              "      <td>4.616809</td>\n",
              "      <td>4.577502</td>\n",
              "    </tr>\n",
              "    <tr>\n",
              "      <th>2450</th>\n",
              "      <td>BRA</td>\n",
              "      <td>Brazil</td>\n",
              "      <td>3445</td>\n",
              "      <td>Business-to-consumer Internet use, 1-7 (best)</td>\n",
              "      <td>Index (1-7)</td>\n",
              "      <td>NaN</td>\n",
              "      <td>5.320720</td>\n",
              "      <td>5.239655</td>\n",
              "      <td>5.121507</td>\n",
              "      <td>4.996538</td>\n",
              "    </tr>\n",
              "    <tr>\n",
              "      <th>2452</th>\n",
              "      <td>BRA</td>\n",
              "      <td>Brazil</td>\n",
              "      <td>3447</td>\n",
              "      <td>Extent of staff training, 1-7 (best)</td>\n",
              "      <td>Index (1-7)</td>\n",
              "      <td>4.434891</td>\n",
              "      <td>4.398861</td>\n",
              "      <td>4.304365</td>\n",
              "      <td>4.305901</td>\n",
              "      <td>4.018696</td>\n",
              "    </tr>\n",
              "    <tr>\n",
              "      <th>2454</th>\n",
              "      <td>BRA</td>\n",
              "      <td>Brazil</td>\n",
              "      <td>3449</td>\n",
              "      <td>Importance of ICTs to gov't vision, 1-7 (best)</td>\n",
              "      <td>Index (1-7)</td>\n",
              "      <td>4.025380</td>\n",
              "      <td>3.890874</td>\n",
              "      <td>3.678587</td>\n",
              "      <td>3.303340</td>\n",
              "      <td>3.128276</td>\n",
              "    </tr>\n",
              "    <tr>\n",
              "      <th>2458</th>\n",
              "      <td>BRA</td>\n",
              "      <td>Brazil</td>\n",
              "      <td>3453</td>\n",
              "      <td>Gov't success in ICT promotion, 1-7 (best)</td>\n",
              "      <td>Index (1-7)</td>\n",
              "      <td>NaN</td>\n",
              "      <td>4.202246</td>\n",
              "      <td>4.094512</td>\n",
              "      <td>3.672042</td>\n",
              "      <td>3.159251</td>\n",
              "    </tr>\n",
              "    <tr>\n",
              "      <th>2460</th>\n",
              "      <td>BRA</td>\n",
              "      <td>Brazil</td>\n",
              "      <td>3455</td>\n",
              "      <td>Impact of ICTs on business models, 1-7 (best)</td>\n",
              "      <td>Index (1-7)</td>\n",
              "      <td>5.207065</td>\n",
              "      <td>5.010695</td>\n",
              "      <td>4.683687</td>\n",
              "      <td>4.243006</td>\n",
              "      <td>4.329762</td>\n",
              "    </tr>\n",
              "    <tr>\n",
              "      <th>2464</th>\n",
              "      <td>BRA</td>\n",
              "      <td>Brazil</td>\n",
              "      <td>3459</td>\n",
              "      <td>Impact of ICTs on new organizational models, 1...</td>\n",
              "      <td>Index (1-7)</td>\n",
              "      <td>4.760524</td>\n",
              "      <td>4.726932</td>\n",
              "      <td>4.538750</td>\n",
              "      <td>4.049158</td>\n",
              "      <td>3.992704</td>\n",
              "    </tr>\n",
              "    <tr>\n",
              "      <th>2468</th>\n",
              "      <td>BRA</td>\n",
              "      <td>Brazil</td>\n",
              "      <td>3463</td>\n",
              "      <td>Impact of ICTs on access to basic services, 1-...</td>\n",
              "      <td>Index (1-7)</td>\n",
              "      <td>4.591104</td>\n",
              "      <td>4.212786</td>\n",
              "      <td>3.920484</td>\n",
              "      <td>3.597506</td>\n",
              "      <td>3.495763</td>\n",
              "    </tr>\n",
              "    <tr>\n",
              "      <th>2470</th>\n",
              "      <td>BRA</td>\n",
              "      <td>Brazil</td>\n",
              "      <td>3465</td>\n",
              "      <td>Internet access in schools, 1-7 (best)</td>\n",
              "      <td>Index (1-7)</td>\n",
              "      <td>3.769795</td>\n",
              "      <td>3.672141</td>\n",
              "      <td>3.600096</td>\n",
              "      <td>3.621749</td>\n",
              "      <td>3.625194</td>\n",
              "    </tr>\n",
              "    <tr>\n",
              "      <th>2472</th>\n",
              "      <td>BRA</td>\n",
              "      <td>Brazil</td>\n",
              "      <td>3467</td>\n",
              "      <td>ICT use &amp; gov't efficiency, 1-7 (best)</td>\n",
              "      <td>Index (1-7)</td>\n",
              "      <td>4.650558</td>\n",
              "      <td>4.433827</td>\n",
              "      <td>4.220622</td>\n",
              "      <td>3.681686</td>\n",
              "      <td>3.384547</td>\n",
              "    </tr>\n",
              "  </tbody>\n",
              "</table>\n",
              "</div>"
            ],
            "text/plain": [
              "     Country ISO3 Country Name  Indicator Id  ...      2014      2015      2016\n",
              "2372          BRA       Brazil          3365  ...  2.586913  2.540074  2.397888\n",
              "2374          BRA       Brazil          3367  ...  4.174029  3.858725  3.741689\n",
              "2376          BRA       Brazil          3369  ...  3.867226  3.553158  3.380492\n",
              "2378          BRA       Brazil          3371  ...  3.301620  3.204778  2.766236\n",
              "2380          BRA       Brazil          3373  ...  3.509144  3.056239  2.937018\n",
              "2382          BRA       Brazil          3375  ...  3.539864  3.250404  3.675650\n",
              "2390          BRA       Brazil          3383  ...  5.054831  4.711750  4.469284\n",
              "2392          BRA       Brazil          3385  ...  2.723249  2.571748  2.510984\n",
              "2400          BRA       Brazil          3393  ...  4.981935  5.271598  5.371110\n",
              "2404          BRA       Brazil          3397  ...  4.542627  4.530422  3.952464\n",
              "2406          BRA       Brazil          3399  ...  3.489464  3.368313  3.050402\n",
              "2422          BRA       Brazil          3415  ...  2.978993  2.720419  2.442969\n",
              "2424          BRA       Brazil          3417  ...  2.557853  2.647589  2.500546\n",
              "2440          BRA       Brazil          3435  ...  6.031967  5.995501  5.851820\n",
              "2442          BRA       Brazil          3437  ...  4.999348  4.770460  4.770460\n",
              "2444          BRA       Brazil          3439  ...  4.018312  4.095007  3.818166\n",
              "2448          BRA       Brazil          3443  ...  5.111247  4.616809  4.577502\n",
              "2450          BRA       Brazil          3445  ...  5.239655  5.121507  4.996538\n",
              "2452          BRA       Brazil          3447  ...  4.304365  4.305901  4.018696\n",
              "2454          BRA       Brazil          3449  ...  3.678587  3.303340  3.128276\n",
              "2458          BRA       Brazil          3453  ...  4.094512  3.672042  3.159251\n",
              "2460          BRA       Brazil          3455  ...  4.683687  4.243006  4.329762\n",
              "2464          BRA       Brazil          3459  ...  4.538750  4.049158  3.992704\n",
              "2468          BRA       Brazil          3463  ...  3.920484  3.597506  3.495763\n",
              "2470          BRA       Brazil          3465  ...  3.600096  3.621749  3.625194\n",
              "2472          BRA       Brazil          3467  ...  4.220622  3.681686  3.384547\n",
              "\n",
              "[26 rows x 10 columns]"
            ]
          },
          "metadata": {
            "tags": []
          },
          "execution_count": 134
        }
      ]
    },
    {
      "cell_type": "code",
      "metadata": {
        "colab": {
          "base_uri": "https://localhost:8080/",
          "height": 80
        },
        "id": "80qIPqNWlJYa",
        "outputId": "ba301d07-5a78-4e60-8960-5e45fd488f13"
      },
      "source": [
        "data_brazil[data_brazil['Subindicator Type'] == '% profits']"
      ],
      "execution_count": null,
      "outputs": [
        {
          "output_type": "execute_result",
          "data": {
            "text/html": [
              "<div>\n",
              "<style scoped>\n",
              "    .dataframe tbody tr th:only-of-type {\n",
              "        vertical-align: middle;\n",
              "    }\n",
              "\n",
              "    .dataframe tbody tr th {\n",
              "        vertical-align: top;\n",
              "    }\n",
              "\n",
              "    .dataframe thead th {\n",
              "        text-align: right;\n",
              "    }\n",
              "</style>\n",
              "<table border=\"1\" class=\"dataframe\">\n",
              "  <thead>\n",
              "    <tr style=\"text-align: right;\">\n",
              "      <th></th>\n",
              "      <th>Country ISO3</th>\n",
              "      <th>Country Name</th>\n",
              "      <th>Indicator Id</th>\n",
              "      <th>Indicator</th>\n",
              "      <th>Subindicator Type</th>\n",
              "      <th>2012</th>\n",
              "      <th>2013</th>\n",
              "      <th>2014</th>\n",
              "      <th>2015</th>\n",
              "      <th>2016</th>\n",
              "    </tr>\n",
              "  </thead>\n",
              "  <tbody>\n",
              "    <tr>\n",
              "      <th>2394</th>\n",
              "      <td>BRA</td>\n",
              "      <td>Brazil</td>\n",
              "      <td>3387</td>\n",
              "      <td>Total tax rate, % profits</td>\n",
              "      <td>% profits</td>\n",
              "      <td>67.1</td>\n",
              "      <td>69.3</td>\n",
              "      <td>68.3</td>\n",
              "      <td>69.0</td>\n",
              "      <td>69.2</td>\n",
              "    </tr>\n",
              "  </tbody>\n",
              "</table>\n",
              "</div>"
            ],
            "text/plain": [
              "     Country ISO3 Country Name  Indicator Id  ...  2014  2015  2016\n",
              "2394          BRA       Brazil          3387  ...  68.3  69.0  69.2\n",
              "\n",
              "[1 rows x 10 columns]"
            ]
          },
          "metadata": {
            "tags": []
          },
          "execution_count": 135
        }
      ]
    },
    {
      "cell_type": "code",
      "metadata": {
        "colab": {
          "base_uri": "https://localhost:8080/",
          "height": 111
        },
        "id": "Ts7uT0dMlJbs",
        "outputId": "fc37353c-bb4e-41ec-b9ca-9c46ad44dfca"
      },
      "source": [
        "data_brazil[data_brazil['Subindicator Type'] == 'time']"
      ],
      "execution_count": null,
      "outputs": [
        {
          "output_type": "execute_result",
          "data": {
            "text/html": [
              "<div>\n",
              "<style scoped>\n",
              "    .dataframe tbody tr th:only-of-type {\n",
              "        vertical-align: middle;\n",
              "    }\n",
              "\n",
              "    .dataframe tbody tr th {\n",
              "        vertical-align: top;\n",
              "    }\n",
              "\n",
              "    .dataframe thead th {\n",
              "        text-align: right;\n",
              "    }\n",
              "</style>\n",
              "<table border=\"1\" class=\"dataframe\">\n",
              "  <thead>\n",
              "    <tr style=\"text-align: right;\">\n",
              "      <th></th>\n",
              "      <th>Country ISO3</th>\n",
              "      <th>Country Name</th>\n",
              "      <th>Indicator Id</th>\n",
              "      <th>Indicator</th>\n",
              "      <th>Subindicator Type</th>\n",
              "      <th>2012</th>\n",
              "      <th>2013</th>\n",
              "      <th>2014</th>\n",
              "      <th>2015</th>\n",
              "      <th>2016</th>\n",
              "    </tr>\n",
              "  </thead>\n",
              "  <tbody>\n",
              "    <tr>\n",
              "      <th>2388</th>\n",
              "      <td>BRA</td>\n",
              "      <td>Brazil</td>\n",
              "      <td>3381</td>\n",
              "      <td>No. days to enforce a contract</td>\n",
              "      <td>time</td>\n",
              "      <td>731.0</td>\n",
              "      <td>731.0</td>\n",
              "      <td>731.0</td>\n",
              "      <td>731.0</td>\n",
              "      <td>731.0</td>\n",
              "    </tr>\n",
              "    <tr>\n",
              "      <th>2396</th>\n",
              "      <td>BRA</td>\n",
              "      <td>Brazil</td>\n",
              "      <td>3389</td>\n",
              "      <td>No. days to start a business</td>\n",
              "      <td>time</td>\n",
              "      <td>119.0</td>\n",
              "      <td>119.0</td>\n",
              "      <td>107.5</td>\n",
              "      <td>83.6</td>\n",
              "      <td>83.0</td>\n",
              "    </tr>\n",
              "  </tbody>\n",
              "</table>\n",
              "</div>"
            ],
            "text/plain": [
              "     Country ISO3 Country Name  Indicator Id  ...   2014   2015   2016\n",
              "2388          BRA       Brazil          3381  ...  731.0  731.0  731.0\n",
              "2396          BRA       Brazil          3389  ...  107.5   83.6   83.0\n",
              "\n",
              "[2 rows x 10 columns]"
            ]
          },
          "metadata": {
            "tags": []
          },
          "execution_count": 136
        }
      ]
    },
    {
      "cell_type": "code",
      "metadata": {
        "colab": {
          "base_uri": "https://localhost:8080/",
          "height": 111
        },
        "id": "21u8TW26lJdw",
        "outputId": "58fcf5c6-839e-407f-bc87-ccd1054e010a"
      },
      "source": [
        "data_brazil[data_brazil['Subindicator Type'] == '% enrollment']"
      ],
      "execution_count": null,
      "outputs": [
        {
          "output_type": "execute_result",
          "data": {
            "text/html": [
              "<div>\n",
              "<style scoped>\n",
              "    .dataframe tbody tr th:only-of-type {\n",
              "        vertical-align: middle;\n",
              "    }\n",
              "\n",
              "    .dataframe tbody tr th {\n",
              "        vertical-align: top;\n",
              "    }\n",
              "\n",
              "    .dataframe thead th {\n",
              "        text-align: right;\n",
              "    }\n",
              "</style>\n",
              "<table border=\"1\" class=\"dataframe\">\n",
              "  <thead>\n",
              "    <tr style=\"text-align: right;\">\n",
              "      <th></th>\n",
              "      <th>Country ISO3</th>\n",
              "      <th>Country Name</th>\n",
              "      <th>Indicator Id</th>\n",
              "      <th>Indicator</th>\n",
              "      <th>Subindicator Type</th>\n",
              "      <th>2012</th>\n",
              "      <th>2013</th>\n",
              "      <th>2014</th>\n",
              "      <th>2015</th>\n",
              "      <th>2016</th>\n",
              "    </tr>\n",
              "  </thead>\n",
              "  <tbody>\n",
              "    <tr>\n",
              "      <th>2402</th>\n",
              "      <td>BRA</td>\n",
              "      <td>Brazil</td>\n",
              "      <td>3395</td>\n",
              "      <td>Tertiary education gross enrollment rate, %</td>\n",
              "      <td>% enrollment</td>\n",
              "      <td>36.07200</td>\n",
              "      <td>25.63098</td>\n",
              "      <td>25.63098</td>\n",
              "      <td>44.917746</td>\n",
              "      <td>45.102985</td>\n",
              "    </tr>\n",
              "    <tr>\n",
              "      <th>2426</th>\n",
              "      <td>BRA</td>\n",
              "      <td>Brazil</td>\n",
              "      <td>3419</td>\n",
              "      <td>Secondary education gross enrollment rate, %</td>\n",
              "      <td>% enrollment</td>\n",
              "      <td>101.33981</td>\n",
              "      <td>105.83225</td>\n",
              "      <td>105.83225</td>\n",
              "      <td>NaN</td>\n",
              "      <td>99.350000</td>\n",
              "    </tr>\n",
              "  </tbody>\n",
              "</table>\n",
              "</div>"
            ],
            "text/plain": [
              "     Country ISO3 Country Name  Indicator Id  ...       2014       2015       2016\n",
              "2402          BRA       Brazil          3395  ...   25.63098  44.917746  45.102985\n",
              "2426          BRA       Brazil          3419  ...  105.83225        NaN  99.350000\n",
              "\n",
              "[2 rows x 10 columns]"
            ]
          },
          "metadata": {
            "tags": []
          },
          "execution_count": 137
        }
      ]
    },
    {
      "cell_type": "code",
      "metadata": {
        "colab": {
          "base_uri": "https://localhost:8080/",
          "height": 80
        },
        "id": "cV2KXjadlJgX",
        "outputId": "6e098f17-7200-4cec-b09b-5bf5aa94815c"
      },
      "source": [
        "data_brazil[data_brazil['Subindicator Type'] == '$/min']"
      ],
      "execution_count": null,
      "outputs": [
        {
          "output_type": "execute_result",
          "data": {
            "text/html": [
              "<div>\n",
              "<style scoped>\n",
              "    .dataframe tbody tr th:only-of-type {\n",
              "        vertical-align: middle;\n",
              "    }\n",
              "\n",
              "    .dataframe tbody tr th {\n",
              "        vertical-align: top;\n",
              "    }\n",
              "\n",
              "    .dataframe thead th {\n",
              "        text-align: right;\n",
              "    }\n",
              "</style>\n",
              "<table border=\"1\" class=\"dataframe\">\n",
              "  <thead>\n",
              "    <tr style=\"text-align: right;\">\n",
              "      <th></th>\n",
              "      <th>Country ISO3</th>\n",
              "      <th>Country Name</th>\n",
              "      <th>Indicator Id</th>\n",
              "      <th>Indicator</th>\n",
              "      <th>Subindicator Type</th>\n",
              "      <th>2012</th>\n",
              "      <th>2013</th>\n",
              "      <th>2014</th>\n",
              "      <th>2015</th>\n",
              "      <th>2016</th>\n",
              "    </tr>\n",
              "  </thead>\n",
              "  <tbody>\n",
              "    <tr>\n",
              "      <th>2416</th>\n",
              "      <td>BRA</td>\n",
              "      <td>Brazil</td>\n",
              "      <td>3409</td>\n",
              "      <td>Prepaid mobile cellular tariffs, PPP $/min.</td>\n",
              "      <td>$/min</td>\n",
              "      <td>0.72501</td>\n",
              "      <td>0.682755</td>\n",
              "      <td>0.649399</td>\n",
              "      <td>0.731392</td>\n",
              "      <td>0.310404</td>\n",
              "    </tr>\n",
              "  </tbody>\n",
              "</table>\n",
              "</div>"
            ],
            "text/plain": [
              "     Country ISO3 Country Name  Indicator Id  ...      2014      2015      2016\n",
              "2416          BRA       Brazil          3409  ...  0.649399  0.731392  0.310404\n",
              "\n",
              "[1 rows x 10 columns]"
            ]
          },
          "metadata": {
            "tags": []
          },
          "execution_count": 138
        }
      ]
    },
    {
      "cell_type": "code",
      "metadata": {
        "colab": {
          "base_uri": "https://localhost:8080/",
          "height": 80
        },
        "id": "SbfhQAOplJjG",
        "outputId": "9c5fe561-3a93-48bf-83ea-d1066701636a"
      },
      "source": [
        "data_brazil[data_brazil['Subindicator Type'] == '$/month']"
      ],
      "execution_count": null,
      "outputs": [
        {
          "output_type": "execute_result",
          "data": {
            "text/html": [
              "<div>\n",
              "<style scoped>\n",
              "    .dataframe tbody tr th:only-of-type {\n",
              "        vertical-align: middle;\n",
              "    }\n",
              "\n",
              "    .dataframe tbody tr th {\n",
              "        vertical-align: top;\n",
              "    }\n",
              "\n",
              "    .dataframe thead th {\n",
              "        text-align: right;\n",
              "    }\n",
              "</style>\n",
              "<table border=\"1\" class=\"dataframe\">\n",
              "  <thead>\n",
              "    <tr style=\"text-align: right;\">\n",
              "      <th></th>\n",
              "      <th>Country ISO3</th>\n",
              "      <th>Country Name</th>\n",
              "      <th>Indicator Id</th>\n",
              "      <th>Indicator</th>\n",
              "      <th>Subindicator Type</th>\n",
              "      <th>2012</th>\n",
              "      <th>2013</th>\n",
              "      <th>2014</th>\n",
              "      <th>2015</th>\n",
              "      <th>2016</th>\n",
              "    </tr>\n",
              "  </thead>\n",
              "  <tbody>\n",
              "    <tr>\n",
              "      <th>2418</th>\n",
              "      <td>BRA</td>\n",
              "      <td>Brazil</td>\n",
              "      <td>3411</td>\n",
              "      <td>Fixed broadband Internet tariffs, PPP $/month</td>\n",
              "      <td>$/month</td>\n",
              "      <td>17.601051</td>\n",
              "      <td>16.575231</td>\n",
              "      <td>15.7652</td>\n",
              "      <td>18.509965</td>\n",
              "      <td>17.619136</td>\n",
              "    </tr>\n",
              "  </tbody>\n",
              "</table>\n",
              "</div>"
            ],
            "text/plain": [
              "     Country ISO3 Country Name  Indicator Id  ...     2014       2015       2016\n",
              "2418          BRA       Brazil          3411  ...  15.7652  18.509965  17.619136\n",
              "\n",
              "[1 rows x 10 columns]"
            ]
          },
          "metadata": {
            "tags": []
          },
          "execution_count": 139
        }
      ]
    },
    {
      "cell_type": "code",
      "metadata": {
        "colab": {
          "base_uri": "https://localhost:8080/",
          "height": 80
        },
        "id": "USIgUa43lJls",
        "outputId": "6a1c9141-8f34-4757-f919-71c827563985"
      },
      "source": [
        "data_brazil[data_brazil['Subindicator Type'] == '% workforce']"
      ],
      "execution_count": null,
      "outputs": [
        {
          "output_type": "execute_result",
          "data": {
            "text/html": [
              "<div>\n",
              "<style scoped>\n",
              "    .dataframe tbody tr th:only-of-type {\n",
              "        vertical-align: middle;\n",
              "    }\n",
              "\n",
              "    .dataframe tbody tr th {\n",
              "        vertical-align: top;\n",
              "    }\n",
              "\n",
              "    .dataframe thead th {\n",
              "        text-align: right;\n",
              "    }\n",
              "</style>\n",
              "<table border=\"1\" class=\"dataframe\">\n",
              "  <thead>\n",
              "    <tr style=\"text-align: right;\">\n",
              "      <th></th>\n",
              "      <th>Country ISO3</th>\n",
              "      <th>Country Name</th>\n",
              "      <th>Indicator Id</th>\n",
              "      <th>Indicator</th>\n",
              "      <th>Subindicator Type</th>\n",
              "      <th>2012</th>\n",
              "      <th>2013</th>\n",
              "      <th>2014</th>\n",
              "      <th>2015</th>\n",
              "      <th>2016</th>\n",
              "    </tr>\n",
              "  </thead>\n",
              "  <tbody>\n",
              "    <tr>\n",
              "      <th>2466</th>\n",
              "      <td>BRA</td>\n",
              "      <td>Brazil</td>\n",
              "      <td>3461</td>\n",
              "      <td>Knowledge-intensive jobs, % workforce</td>\n",
              "      <td>% workforce</td>\n",
              "      <td>19.309142</td>\n",
              "      <td>19.309142</td>\n",
              "      <td>20.504978</td>\n",
              "      <td>21.039651</td>\n",
              "      <td>21.625157</td>\n",
              "    </tr>\n",
              "  </tbody>\n",
              "</table>\n",
              "</div>"
            ],
            "text/plain": [
              "     Country ISO3 Country Name  Indicator Id  ...       2014       2015       2016\n",
              "2466          BRA       Brazil          3461  ...  20.504978  21.039651  21.625157\n",
              "\n",
              "[1 rows x 10 columns]"
            ]
          },
          "metadata": {
            "tags": []
          },
          "execution_count": 140
        }
      ]
    },
    {
      "cell_type": "code",
      "metadata": {
        "id": "Xk1ffdf9a3U2",
        "colab": {
          "base_uri": "https://localhost:8080/",
          "height": 80
        },
        "outputId": "c45c692a-589e-4def-e612-ee28d3c1e9b8"
      },
      "source": [
        "data_brazil[data_brazil['Subindicator Type'] == 'kWh/capita']"
      ],
      "execution_count": null,
      "outputs": [
        {
          "output_type": "execute_result",
          "data": {
            "text/html": [
              "<div>\n",
              "<style scoped>\n",
              "    .dataframe tbody tr th:only-of-type {\n",
              "        vertical-align: middle;\n",
              "    }\n",
              "\n",
              "    .dataframe tbody tr th {\n",
              "        vertical-align: top;\n",
              "    }\n",
              "\n",
              "    .dataframe thead th {\n",
              "        text-align: right;\n",
              "    }\n",
              "</style>\n",
              "<table border=\"1\" class=\"dataframe\">\n",
              "  <thead>\n",
              "    <tr style=\"text-align: right;\">\n",
              "      <th></th>\n",
              "      <th>Country ISO3</th>\n",
              "      <th>Country Name</th>\n",
              "      <th>Indicator Id</th>\n",
              "      <th>Indicator</th>\n",
              "      <th>Subindicator Type</th>\n",
              "      <th>2012</th>\n",
              "      <th>2013</th>\n",
              "      <th>2014</th>\n",
              "      <th>2015</th>\n",
              "      <th>2016</th>\n",
              "    </tr>\n",
              "  </thead>\n",
              "  <tbody>\n",
              "    <tr>\n",
              "      <th>2408</th>\n",
              "      <td>BRA</td>\n",
              "      <td>Brazil</td>\n",
              "      <td>3401</td>\n",
              "      <td>Electricity production, kWh/capita</td>\n",
              "      <td>kWh/capita</td>\n",
              "      <td>2419.135268</td>\n",
              "      <td>2413.848295</td>\n",
              "      <td>2700.16827</td>\n",
              "      <td>2700.16827</td>\n",
              "      <td>2792.180258</td>\n",
              "    </tr>\n",
              "  </tbody>\n",
              "</table>\n",
              "</div>"
            ],
            "text/plain": [
              "     Country ISO3 Country Name  ...        2015         2016\n",
              "2408          BRA       Brazil  ...  2700.16827  2792.180258\n",
              "\n",
              "[1 rows x 10 columns]"
            ]
          },
          "metadata": {
            "tags": []
          },
          "execution_count": 141
        }
      ]
    },
    {
      "cell_type": "code",
      "metadata": {
        "id": "2LBQl3Iqa3fI",
        "colab": {
          "base_uri": "https://localhost:8080/",
          "height": 419
        },
        "outputId": "ba5f31a6-9332-41d4-fa07-4056d99d7dc1"
      },
      "source": [
        "data_brazil[data_brazil['Subindicator Type'] == 'Rank']"
      ],
      "execution_count": null,
      "outputs": [
        {
          "output_type": "execute_result",
          "data": {
            "text/html": [
              "<div>\n",
              "<style scoped>\n",
              "    .dataframe tbody tr th:only-of-type {\n",
              "        vertical-align: middle;\n",
              "    }\n",
              "\n",
              "    .dataframe tbody tr th {\n",
              "        vertical-align: top;\n",
              "    }\n",
              "\n",
              "    .dataframe thead th {\n",
              "        text-align: right;\n",
              "    }\n",
              "</style>\n",
              "<table border=\"1\" class=\"dataframe\">\n",
              "  <thead>\n",
              "    <tr style=\"text-align: right;\">\n",
              "      <th></th>\n",
              "      <th>Country ISO3</th>\n",
              "      <th>Country Name</th>\n",
              "      <th>Indicator Id</th>\n",
              "      <th>Indicator</th>\n",
              "      <th>Subindicator Type</th>\n",
              "      <th>2012</th>\n",
              "      <th>2013</th>\n",
              "      <th>2014</th>\n",
              "      <th>2015</th>\n",
              "      <th>2016</th>\n",
              "    </tr>\n",
              "  </thead>\n",
              "  <tbody>\n",
              "    <tr>\n",
              "      <th>2373</th>\n",
              "      <td>BRA</td>\n",
              "      <td>Brazil</td>\n",
              "      <td>3366</td>\n",
              "      <td>Effectiveness of law-making bodies, 1-7 (best)</td>\n",
              "      <td>Rank</td>\n",
              "      <td>113.0</td>\n",
              "      <td>120.0</td>\n",
              "      <td>133.0</td>\n",
              "      <td>127.0</td>\n",
              "      <td>129.0</td>\n",
              "    </tr>\n",
              "    <tr>\n",
              "      <th>2375</th>\n",
              "      <td>BRA</td>\n",
              "      <td>Brazil</td>\n",
              "      <td>3368</td>\n",
              "      <td>Laws relating to ICTs, 1-7 (best)</td>\n",
              "      <td>Rank</td>\n",
              "      <td>46.0</td>\n",
              "      <td>47.0</td>\n",
              "      <td>60.0</td>\n",
              "      <td>76.0</td>\n",
              "      <td>80.0</td>\n",
              "    </tr>\n",
              "    <tr>\n",
              "      <th>2377</th>\n",
              "      <td>BRA</td>\n",
              "      <td>Brazil</td>\n",
              "      <td>3370</td>\n",
              "      <td>Judicial independence, 1-7 (best)</td>\n",
              "      <td>Rank</td>\n",
              "      <td>71.0</td>\n",
              "      <td>71.0</td>\n",
              "      <td>65.0</td>\n",
              "      <td>76.0</td>\n",
              "      <td>92.0</td>\n",
              "    </tr>\n",
              "    <tr>\n",
              "      <th>2379</th>\n",
              "      <td>BRA</td>\n",
              "      <td>Brazil</td>\n",
              "      <td>3372</td>\n",
              "      <td>Efficiency of legal system in settling dispute...</td>\n",
              "      <td>Rank</td>\n",
              "      <td>75.0</td>\n",
              "      <td>84.0</td>\n",
              "      <td>101.0</td>\n",
              "      <td>106.0</td>\n",
              "      <td>123.0</td>\n",
              "    </tr>\n",
              "    <tr>\n",
              "      <th>2381</th>\n",
              "      <td>BRA</td>\n",
              "      <td>Brazil</td>\n",
              "      <td>3374</td>\n",
              "      <td>Efficiency of legal system in challenging regs...</td>\n",
              "      <td>Rank</td>\n",
              "      <td>66.0</td>\n",
              "      <td>61.0</td>\n",
              "      <td>68.0</td>\n",
              "      <td>94.0</td>\n",
              "      <td>106.0</td>\n",
              "    </tr>\n",
              "    <tr>\n",
              "      <th>...</th>\n",
              "      <td>...</td>\n",
              "      <td>...</td>\n",
              "      <td>...</td>\n",
              "      <td>...</td>\n",
              "      <td>...</td>\n",
              "      <td>...</td>\n",
              "      <td>...</td>\n",
              "      <td>...</td>\n",
              "      <td>...</td>\n",
              "      <td>...</td>\n",
              "    </tr>\n",
              "    <tr>\n",
              "      <th>2497</th>\n",
              "      <td>BRA</td>\n",
              "      <td>Brazil</td>\n",
              "      <td>3492</td>\n",
              "      <td>8th pillar: Government usage</td>\n",
              "      <td>Rank</td>\n",
              "      <td>59.0</td>\n",
              "      <td>48.0</td>\n",
              "      <td>54.0</td>\n",
              "      <td>71.0</td>\n",
              "      <td>84.0</td>\n",
              "    </tr>\n",
              "    <tr>\n",
              "      <th>2499</th>\n",
              "      <td>BRA</td>\n",
              "      <td>Brazil</td>\n",
              "      <td>3494</td>\n",
              "      <td>D. Impact subindex</td>\n",
              "      <td>Rank</td>\n",
              "      <td>53.0</td>\n",
              "      <td>50.0</td>\n",
              "      <td>57.0</td>\n",
              "      <td>75.0</td>\n",
              "      <td>79.0</td>\n",
              "    </tr>\n",
              "    <tr>\n",
              "      <th>2501</th>\n",
              "      <td>BRA</td>\n",
              "      <td>Brazil</td>\n",
              "      <td>3496</td>\n",
              "      <td>9th pillar: Economic impacts</td>\n",
              "      <td>Rank</td>\n",
              "      <td>52.0</td>\n",
              "      <td>50.0</td>\n",
              "      <td>64.0</td>\n",
              "      <td>76.0</td>\n",
              "      <td>75.0</td>\n",
              "    </tr>\n",
              "    <tr>\n",
              "      <th>2503</th>\n",
              "      <td>BRA</td>\n",
              "      <td>Brazil</td>\n",
              "      <td>3498</td>\n",
              "      <td>10th pillar: Social impacts</td>\n",
              "      <td>Rank</td>\n",
              "      <td>54.0</td>\n",
              "      <td>48.0</td>\n",
              "      <td>58.0</td>\n",
              "      <td>73.0</td>\n",
              "      <td>77.0</td>\n",
              "    </tr>\n",
              "    <tr>\n",
              "      <th>2505</th>\n",
              "      <td>BRA</td>\n",
              "      <td>Brazil</td>\n",
              "      <td>3500</td>\n",
              "      <td>Networked Readiness Index</td>\n",
              "      <td>Rank</td>\n",
              "      <td>65.0</td>\n",
              "      <td>60.0</td>\n",
              "      <td>69.0</td>\n",
              "      <td>84.0</td>\n",
              "      <td>72.0</td>\n",
              "    </tr>\n",
              "  </tbody>\n",
              "</table>\n",
              "<p>67 rows × 10 columns</p>\n",
              "</div>"
            ],
            "text/plain": [
              "     Country ISO3 Country Name  Indicator Id  ...   2014   2015   2016\n",
              "2373          BRA       Brazil          3366  ...  133.0  127.0  129.0\n",
              "2375          BRA       Brazil          3368  ...   60.0   76.0   80.0\n",
              "2377          BRA       Brazil          3370  ...   65.0   76.0   92.0\n",
              "2379          BRA       Brazil          3372  ...  101.0  106.0  123.0\n",
              "2381          BRA       Brazil          3374  ...   68.0   94.0  106.0\n",
              "...           ...          ...           ...  ...    ...    ...    ...\n",
              "2497          BRA       Brazil          3492  ...   54.0   71.0   84.0\n",
              "2499          BRA       Brazil          3494  ...   57.0   75.0   79.0\n",
              "2501          BRA       Brazil          3496  ...   64.0   76.0   75.0\n",
              "2503          BRA       Brazil          3498  ...   58.0   73.0   77.0\n",
              "2505          BRA       Brazil          3500  ...   69.0   84.0   72.0\n",
              "\n",
              "[67 rows x 10 columns]"
            ]
          },
          "metadata": {
            "tags": []
          },
          "execution_count": 142
        }
      ]
    },
    {
      "cell_type": "code",
      "metadata": {
        "id": "45xtdNzva3Z6",
        "colab": {
          "base_uri": "https://localhost:8080/",
          "height": 80
        },
        "outputId": "554b3799-d082-4010-b431-dd524e0d66da"
      },
      "source": [
        "data_brazil[data_brazil['Subindicator Type'] == '% software installed']"
      ],
      "execution_count": null,
      "outputs": [
        {
          "output_type": "execute_result",
          "data": {
            "text/html": [
              "<div>\n",
              "<style scoped>\n",
              "    .dataframe tbody tr th:only-of-type {\n",
              "        vertical-align: middle;\n",
              "    }\n",
              "\n",
              "    .dataframe tbody tr th {\n",
              "        vertical-align: top;\n",
              "    }\n",
              "\n",
              "    .dataframe thead th {\n",
              "        text-align: right;\n",
              "    }\n",
              "</style>\n",
              "<table border=\"1\" class=\"dataframe\">\n",
              "  <thead>\n",
              "    <tr style=\"text-align: right;\">\n",
              "      <th></th>\n",
              "      <th>Country ISO3</th>\n",
              "      <th>Country Name</th>\n",
              "      <th>Indicator Id</th>\n",
              "      <th>Indicator</th>\n",
              "      <th>Subindicator Type</th>\n",
              "      <th>2012</th>\n",
              "      <th>2013</th>\n",
              "      <th>2014</th>\n",
              "      <th>2015</th>\n",
              "      <th>2016</th>\n",
              "    </tr>\n",
              "  </thead>\n",
              "  <tbody>\n",
              "    <tr>\n",
              "      <th>2384</th>\n",
              "      <td>BRA</td>\n",
              "      <td>Brazil</td>\n",
              "      <td>3377</td>\n",
              "      <td>Software piracy rate, % software installed</td>\n",
              "      <td>% software installed</td>\n",
              "      <td>54.0</td>\n",
              "      <td>53.0</td>\n",
              "      <td>53.0</td>\n",
              "      <td>50.0</td>\n",
              "      <td>50.0</td>\n",
              "    </tr>\n",
              "  </tbody>\n",
              "</table>\n",
              "</div>"
            ],
            "text/plain": [
              "     Country ISO3 Country Name  Indicator Id  ...  2014  2015  2016\n",
              "2384          BRA       Brazil          3377  ...  53.0  50.0  50.0\n",
              "\n",
              "[1 rows x 10 columns]"
            ]
          },
          "metadata": {
            "tags": []
          },
          "execution_count": 143
        }
      ]
    },
    {
      "cell_type": "code",
      "metadata": {
        "id": "iMpS6Czwa3cj",
        "colab": {
          "base_uri": "https://localhost:8080/",
          "height": 80
        },
        "outputId": "0387e4ab-fe2c-4f80-c13a-4a4bbd37f968"
      },
      "source": [
        "data_brazil[data_brazil['Subindicator Type'] == '% population']"
      ],
      "execution_count": null,
      "outputs": [
        {
          "output_type": "execute_result",
          "data": {
            "text/html": [
              "<div>\n",
              "<style scoped>\n",
              "    .dataframe tbody tr th:only-of-type {\n",
              "        vertical-align: middle;\n",
              "    }\n",
              "\n",
              "    .dataframe tbody tr th {\n",
              "        vertical-align: top;\n",
              "    }\n",
              "\n",
              "    .dataframe thead th {\n",
              "        text-align: right;\n",
              "    }\n",
              "</style>\n",
              "<table border=\"1\" class=\"dataframe\">\n",
              "  <thead>\n",
              "    <tr style=\"text-align: right;\">\n",
              "      <th></th>\n",
              "      <th>Country ISO3</th>\n",
              "      <th>Country Name</th>\n",
              "      <th>Indicator Id</th>\n",
              "      <th>Indicator</th>\n",
              "      <th>Subindicator Type</th>\n",
              "      <th>2012</th>\n",
              "      <th>2013</th>\n",
              "      <th>2014</th>\n",
              "      <th>2015</th>\n",
              "      <th>2016</th>\n",
              "    </tr>\n",
              "  </thead>\n",
              "  <tbody>\n",
              "    <tr>\n",
              "      <th>2410</th>\n",
              "      <td>BRA</td>\n",
              "      <td>Brazil</td>\n",
              "      <td>3403</td>\n",
              "      <td>Mobile network coverage, % pop.</td>\n",
              "      <td>% population</td>\n",
              "      <td>99.89</td>\n",
              "      <td>99.99</td>\n",
              "      <td>99.99</td>\n",
              "      <td>99.98</td>\n",
              "      <td>99.98</td>\n",
              "    </tr>\n",
              "  </tbody>\n",
              "</table>\n",
              "</div>"
            ],
            "text/plain": [
              "     Country ISO3 Country Name  Indicator Id  ...   2014   2015   2016\n",
              "2410          BRA       Brazil          3403  ...  99.99  99.98  99.98\n",
              "\n",
              "[1 rows x 10 columns]"
            ]
          },
          "metadata": {
            "tags": []
          },
          "execution_count": 144
        }
      ]
    },
    {
      "cell_type": "code",
      "metadata": {
        "colab": {
          "base_uri": "https://localhost:8080/",
          "height": 142
        },
        "id": "6aSZaropkXIB",
        "outputId": "af64e86a-12b5-4dfd-f233-ec45179da5c6"
      },
      "source": [
        "data_brazil[data_brazil['Subindicator Type'] == 'per million pop.']"
      ],
      "execution_count": null,
      "outputs": [
        {
          "output_type": "execute_result",
          "data": {
            "text/html": [
              "<div>\n",
              "<style scoped>\n",
              "    .dataframe tbody tr th:only-of-type {\n",
              "        vertical-align: middle;\n",
              "    }\n",
              "\n",
              "    .dataframe tbody tr th {\n",
              "        vertical-align: top;\n",
              "    }\n",
              "\n",
              "    .dataframe thead th {\n",
              "        text-align: right;\n",
              "    }\n",
              "</style>\n",
              "<table border=\"1\" class=\"dataframe\">\n",
              "  <thead>\n",
              "    <tr style=\"text-align: right;\">\n",
              "      <th></th>\n",
              "      <th>Country ISO3</th>\n",
              "      <th>Country Name</th>\n",
              "      <th>Indicator Id</th>\n",
              "      <th>Indicator</th>\n",
              "      <th>Subindicator Type</th>\n",
              "      <th>2012</th>\n",
              "      <th>2013</th>\n",
              "      <th>2014</th>\n",
              "      <th>2015</th>\n",
              "      <th>2016</th>\n",
              "    </tr>\n",
              "  </thead>\n",
              "  <tbody>\n",
              "    <tr>\n",
              "      <th>2414</th>\n",
              "      <td>BRA</td>\n",
              "      <td>Brazil</td>\n",
              "      <td>3407</td>\n",
              "      <td>Secure Internet servers/million pop.</td>\n",
              "      <td>per million pop.</td>\n",
              "      <td>40.734259</td>\n",
              "      <td>54.196432</td>\n",
              "      <td>54.284789</td>\n",
              "      <td>57.446044</td>\n",
              "      <td>68.634240</td>\n",
              "    </tr>\n",
              "    <tr>\n",
              "      <th>2446</th>\n",
              "      <td>BRA</td>\n",
              "      <td>Brazil</td>\n",
              "      <td>3441</td>\n",
              "      <td>PCT patents, applications/million pop.</td>\n",
              "      <td>per million pop.</td>\n",
              "      <td>2.749363</td>\n",
              "      <td>2.807343</td>\n",
              "      <td>3.038518</td>\n",
              "      <td>3.479021</td>\n",
              "      <td>3.449393</td>\n",
              "    </tr>\n",
              "    <tr>\n",
              "      <th>2462</th>\n",
              "      <td>BRA</td>\n",
              "      <td>Brazil</td>\n",
              "      <td>3457</td>\n",
              "      <td>ICT PCT patents, applications/million pop.</td>\n",
              "      <td>per million pop.</td>\n",
              "      <td>0.336181</td>\n",
              "      <td>0.356096</td>\n",
              "      <td>0.383748</td>\n",
              "      <td>0.521228</td>\n",
              "      <td>0.522120</td>\n",
              "    </tr>\n",
              "  </tbody>\n",
              "</table>\n",
              "</div>"
            ],
            "text/plain": [
              "     Country ISO3 Country Name  Indicator Id  ...       2014       2015       2016\n",
              "2414          BRA       Brazil          3407  ...  54.284789  57.446044  68.634240\n",
              "2446          BRA       Brazil          3441  ...   3.038518   3.479021   3.449393\n",
              "2462          BRA       Brazil          3457  ...   0.383748   0.521228   0.522120\n",
              "\n",
              "[3 rows x 10 columns]"
            ]
          },
          "metadata": {
            "tags": []
          },
          "execution_count": 145
        }
      ]
    },
    {
      "cell_type": "code",
      "metadata": {
        "colab": {
          "base_uri": "https://localhost:8080/",
          "height": 80
        },
        "id": "T_HIcJxUkXLF",
        "outputId": "68bdf959-90ec-4972-d4cc-6dafe2ab9024"
      },
      "source": [
        "data_brazil[data_brazil['Subindicator Type'] == 'kb/s']"
      ],
      "execution_count": null,
      "outputs": [
        {
          "output_type": "execute_result",
          "data": {
            "text/html": [
              "<div>\n",
              "<style scoped>\n",
              "    .dataframe tbody tr th:only-of-type {\n",
              "        vertical-align: middle;\n",
              "    }\n",
              "\n",
              "    .dataframe tbody tr th {\n",
              "        vertical-align: top;\n",
              "    }\n",
              "\n",
              "    .dataframe thead th {\n",
              "        text-align: right;\n",
              "    }\n",
              "</style>\n",
              "<table border=\"1\" class=\"dataframe\">\n",
              "  <thead>\n",
              "    <tr style=\"text-align: right;\">\n",
              "      <th></th>\n",
              "      <th>Country ISO3</th>\n",
              "      <th>Country Name</th>\n",
              "      <th>Indicator Id</th>\n",
              "      <th>Indicator</th>\n",
              "      <th>Subindicator Type</th>\n",
              "      <th>2012</th>\n",
              "      <th>2013</th>\n",
              "      <th>2014</th>\n",
              "      <th>2015</th>\n",
              "      <th>2016</th>\n",
              "    </tr>\n",
              "  </thead>\n",
              "  <tbody>\n",
              "    <tr>\n",
              "      <th>2412</th>\n",
              "      <td>BRA</td>\n",
              "      <td>Brazil</td>\n",
              "      <td>3405</td>\n",
              "      <td>Int'l Internet bandwidth, kb/s per user</td>\n",
              "      <td>kb/s</td>\n",
              "      <td>12.618975</td>\n",
              "      <td>28.024259</td>\n",
              "      <td>44.837</td>\n",
              "      <td>42.94554</td>\n",
              "      <td>42.965886</td>\n",
              "    </tr>\n",
              "  </tbody>\n",
              "</table>\n",
              "</div>"
            ],
            "text/plain": [
              "     Country ISO3 Country Name  Indicator Id  ...    2014      2015       2016\n",
              "2412          BRA       Brazil          3405  ...  44.837  42.94554  42.965886\n",
              "\n",
              "[1 rows x 10 columns]"
            ]
          },
          "metadata": {
            "tags": []
          },
          "execution_count": 146
        }
      ]
    },
    {
      "cell_type": "code",
      "metadata": {
        "colab": {
          "base_uri": "https://localhost:8080/",
          "height": 80
        },
        "id": "lFrP8YOkkXNy",
        "outputId": "5f0833ee-3f89-4185-ee30-ca120e40a59e"
      },
      "source": [
        "data_brazil[data_brazil['Subindicator Type'] == '% adults']"
      ],
      "execution_count": null,
      "outputs": [
        {
          "output_type": "execute_result",
          "data": {
            "text/html": [
              "<div>\n",
              "<style scoped>\n",
              "    .dataframe tbody tr th:only-of-type {\n",
              "        vertical-align: middle;\n",
              "    }\n",
              "\n",
              "    .dataframe tbody tr th {\n",
              "        vertical-align: top;\n",
              "    }\n",
              "\n",
              "    .dataframe thead th {\n",
              "        text-align: right;\n",
              "    }\n",
              "</style>\n",
              "<table border=\"1\" class=\"dataframe\">\n",
              "  <thead>\n",
              "    <tr style=\"text-align: right;\">\n",
              "      <th></th>\n",
              "      <th>Country ISO3</th>\n",
              "      <th>Country Name</th>\n",
              "      <th>Indicator Id</th>\n",
              "      <th>Indicator</th>\n",
              "      <th>Subindicator Type</th>\n",
              "      <th>2012</th>\n",
              "      <th>2013</th>\n",
              "      <th>2014</th>\n",
              "      <th>2015</th>\n",
              "      <th>2016</th>\n",
              "    </tr>\n",
              "  </thead>\n",
              "  <tbody>\n",
              "    <tr>\n",
              "      <th>2428</th>\n",
              "      <td>BRA</td>\n",
              "      <td>Brazil</td>\n",
              "      <td>3421</td>\n",
              "      <td>Adult literacy rate, %</td>\n",
              "      <td>% adults</td>\n",
              "      <td>90.03662</td>\n",
              "      <td>90.29821</td>\n",
              "      <td>90.379177</td>\n",
              "      <td>92.58371</td>\n",
              "      <td>92.58371</td>\n",
              "    </tr>\n",
              "  </tbody>\n",
              "</table>\n",
              "</div>"
            ],
            "text/plain": [
              "     Country ISO3 Country Name  Indicator Id  ...       2014      2015      2016\n",
              "2428          BRA       Brazil          3421  ...  90.379177  92.58371  92.58371\n",
              "\n",
              "[1 rows x 10 columns]"
            ]
          },
          "metadata": {
            "tags": []
          },
          "execution_count": 147
        }
      ]
    },
    {
      "cell_type": "code",
      "metadata": {
        "colab": {
          "base_uri": "https://localhost:8080/",
          "height": 111
        },
        "id": "AgKHvhM3kXQd",
        "outputId": "321f0b3c-802f-484d-a3cf-171f79b702a6"
      },
      "source": [
        "data_brazil[data_brazil['Subindicator Type'] == '% households']"
      ],
      "execution_count": null,
      "outputs": [
        {
          "output_type": "execute_result",
          "data": {
            "text/html": [
              "<div>\n",
              "<style scoped>\n",
              "    .dataframe tbody tr th:only-of-type {\n",
              "        vertical-align: middle;\n",
              "    }\n",
              "\n",
              "    .dataframe tbody tr th {\n",
              "        vertical-align: top;\n",
              "    }\n",
              "\n",
              "    .dataframe thead th {\n",
              "        text-align: right;\n",
              "    }\n",
              "</style>\n",
              "<table border=\"1\" class=\"dataframe\">\n",
              "  <thead>\n",
              "    <tr style=\"text-align: right;\">\n",
              "      <th></th>\n",
              "      <th>Country ISO3</th>\n",
              "      <th>Country Name</th>\n",
              "      <th>Indicator Id</th>\n",
              "      <th>Indicator</th>\n",
              "      <th>Subindicator Type</th>\n",
              "      <th>2012</th>\n",
              "      <th>2013</th>\n",
              "      <th>2014</th>\n",
              "      <th>2015</th>\n",
              "      <th>2016</th>\n",
              "    </tr>\n",
              "  </thead>\n",
              "  <tbody>\n",
              "    <tr>\n",
              "      <th>2434</th>\n",
              "      <td>BRA</td>\n",
              "      <td>Brazil</td>\n",
              "      <td>3427</td>\n",
              "      <td>Households w/ personal computer, %</td>\n",
              "      <td>% households</td>\n",
              "      <td>34.86</td>\n",
              "      <td>45.41</td>\n",
              "      <td>49.920</td>\n",
              "      <td>48.8</td>\n",
              "      <td>51.95</td>\n",
              "    </tr>\n",
              "    <tr>\n",
              "      <th>2436</th>\n",
              "      <td>BRA</td>\n",
              "      <td>Brazil</td>\n",
              "      <td>3429</td>\n",
              "      <td>Households w/ Internet access, %</td>\n",
              "      <td>% households</td>\n",
              "      <td>27.06</td>\n",
              "      <td>37.84</td>\n",
              "      <td>45.374</td>\n",
              "      <td>42.4</td>\n",
              "      <td>48.00</td>\n",
              "    </tr>\n",
              "  </tbody>\n",
              "</table>\n",
              "</div>"
            ],
            "text/plain": [
              "     Country ISO3 Country Name  Indicator Id  ...    2014  2015   2016\n",
              "2434          BRA       Brazil          3427  ...  49.920  48.8  51.95\n",
              "2436          BRA       Brazil          3429  ...  45.374  42.4  48.00\n",
              "\n",
              "[2 rows x 10 columns]"
            ]
          },
          "metadata": {
            "tags": []
          },
          "execution_count": 148
        }
      ]
    },
    {
      "cell_type": "code",
      "metadata": {
        "id": "3Rk3ALphpVP8"
      },
      "source": [
        ""
      ],
      "execution_count": null,
      "outputs": []
    },
    {
      "cell_type": "code",
      "metadata": {
        "id": "i28XyIYApVXR"
      },
      "source": [
        ""
      ],
      "execution_count": null,
      "outputs": []
    },
    {
      "cell_type": "code",
      "metadata": {
        "id": "f3TUEzUcpVah"
      },
      "source": [
        ""
      ],
      "execution_count": null,
      "outputs": []
    },
    {
      "cell_type": "code",
      "metadata": {
        "id": "moIfz_ANpVc0"
      },
      "source": [
        "data_brazil.set_index(data_brazil.Indicator, inplace=True)\n"
      ],
      "execution_count": null,
      "outputs": []
    },
    {
      "cell_type": "code",
      "metadata": {
        "id": "VyYrfQ56pVfe"
      },
      "source": [
        "data_brazil.drop(inplace=True, columns=['Country ISO3', 'Country Name', 'Indicator Id',\n",
        "       'Subindicator Type','Indicator'] )"
      ],
      "execution_count": null,
      "outputs": []
    },
    {
      "cell_type": "code",
      "metadata": {
        "colab": {
          "base_uri": "https://localhost:8080/",
          "height": 450
        },
        "id": "8ntc-GaIpViE",
        "outputId": "38b9555f-9cc3-4e51-9675-c5dba09ec1d3"
      },
      "source": [
        "data_brazil"
      ],
      "execution_count": null,
      "outputs": [
        {
          "output_type": "execute_result",
          "data": {
            "text/html": [
              "<div>\n",
              "<style scoped>\n",
              "    .dataframe tbody tr th:only-of-type {\n",
              "        vertical-align: middle;\n",
              "    }\n",
              "\n",
              "    .dataframe tbody tr th {\n",
              "        vertical-align: top;\n",
              "    }\n",
              "\n",
              "    .dataframe thead th {\n",
              "        text-align: right;\n",
              "    }\n",
              "</style>\n",
              "<table border=\"1\" class=\"dataframe\">\n",
              "  <thead>\n",
              "    <tr style=\"text-align: right;\">\n",
              "      <th></th>\n",
              "      <th>2012</th>\n",
              "      <th>2013</th>\n",
              "      <th>2014</th>\n",
              "      <th>2015</th>\n",
              "      <th>2016</th>\n",
              "    </tr>\n",
              "    <tr>\n",
              "      <th>Indicator</th>\n",
              "      <th></th>\n",
              "      <th></th>\n",
              "      <th></th>\n",
              "      <th></th>\n",
              "      <th></th>\n",
              "    </tr>\n",
              "  </thead>\n",
              "  <tbody>\n",
              "    <tr>\n",
              "      <th>Effectiveness of law-making bodies, 1-7 (best)</th>\n",
              "      <td>2.737909</td>\n",
              "      <td>2.700909</td>\n",
              "      <td>2.586913</td>\n",
              "      <td>2.540074</td>\n",
              "      <td>2.397888</td>\n",
              "    </tr>\n",
              "    <tr>\n",
              "      <th>Effectiveness of law-making bodies, 1-7 (best)</th>\n",
              "      <td>113.000000</td>\n",
              "      <td>120.000000</td>\n",
              "      <td>133.000000</td>\n",
              "      <td>127.000000</td>\n",
              "      <td>129.000000</td>\n",
              "    </tr>\n",
              "    <tr>\n",
              "      <th>Laws relating to ICTs, 1-7 (best)</th>\n",
              "      <td>4.449333</td>\n",
              "      <td>4.396980</td>\n",
              "      <td>4.174029</td>\n",
              "      <td>3.858725</td>\n",
              "      <td>3.741689</td>\n",
              "    </tr>\n",
              "    <tr>\n",
              "      <th>Laws relating to ICTs, 1-7 (best)</th>\n",
              "      <td>46.000000</td>\n",
              "      <td>47.000000</td>\n",
              "      <td>60.000000</td>\n",
              "      <td>76.000000</td>\n",
              "      <td>80.000000</td>\n",
              "    </tr>\n",
              "    <tr>\n",
              "      <th>Judicial independence, 1-7 (best)</th>\n",
              "      <td>3.736586</td>\n",
              "      <td>3.750626</td>\n",
              "      <td>3.867226</td>\n",
              "      <td>3.553158</td>\n",
              "      <td>3.380492</td>\n",
              "    </tr>\n",
              "    <tr>\n",
              "      <th>...</th>\n",
              "      <td>...</td>\n",
              "      <td>...</td>\n",
              "      <td>...</td>\n",
              "      <td>...</td>\n",
              "      <td>...</td>\n",
              "    </tr>\n",
              "    <tr>\n",
              "      <th>9th pillar: Economic impacts</th>\n",
              "      <td>52.000000</td>\n",
              "      <td>50.000000</td>\n",
              "      <td>64.000000</td>\n",
              "      <td>76.000000</td>\n",
              "      <td>75.000000</td>\n",
              "    </tr>\n",
              "    <tr>\n",
              "      <th>10th pillar: Social impacts</th>\n",
              "      <td>3.931414</td>\n",
              "      <td>4.079689</td>\n",
              "      <td>3.935301</td>\n",
              "      <td>4.034055</td>\n",
              "      <td>3.935196</td>\n",
              "    </tr>\n",
              "    <tr>\n",
              "      <th>10th pillar: Social impacts</th>\n",
              "      <td>54.000000</td>\n",
              "      <td>48.000000</td>\n",
              "      <td>58.000000</td>\n",
              "      <td>73.000000</td>\n",
              "      <td>77.000000</td>\n",
              "    </tr>\n",
              "    <tr>\n",
              "      <th>Networked Readiness Index</th>\n",
              "      <td>3.916152</td>\n",
              "      <td>3.969466</td>\n",
              "      <td>3.981531</td>\n",
              "      <td>3.853131</td>\n",
              "      <td>4.014986</td>\n",
              "    </tr>\n",
              "    <tr>\n",
              "      <th>Networked Readiness Index</th>\n",
              "      <td>65.000000</td>\n",
              "      <td>60.000000</td>\n",
              "      <td>69.000000</td>\n",
              "      <td>84.000000</td>\n",
              "      <td>72.000000</td>\n",
              "    </tr>\n",
              "  </tbody>\n",
              "</table>\n",
              "<p>134 rows × 5 columns</p>\n",
              "</div>"
            ],
            "text/plain": [
              "                                                      2012  ...        2016\n",
              "Indicator                                                   ...            \n",
              "Effectiveness of law-making bodies, 1-7 (best)    2.737909  ...    2.397888\n",
              "Effectiveness of law-making bodies, 1-7 (best)  113.000000  ...  129.000000\n",
              "Laws relating to ICTs, 1-7 (best)                 4.449333  ...    3.741689\n",
              "Laws relating to ICTs, 1-7 (best)                46.000000  ...   80.000000\n",
              "Judicial independence, 1-7 (best)                 3.736586  ...    3.380492\n",
              "...                                                    ...  ...         ...\n",
              "9th pillar: Economic impacts                     52.000000  ...   75.000000\n",
              "10th pillar: Social impacts                       3.931414  ...    3.935196\n",
              "10th pillar: Social impacts                      54.000000  ...   77.000000\n",
              "Networked Readiness Index                         3.916152  ...    4.014986\n",
              "Networked Readiness Index                        65.000000  ...   72.000000\n",
              "\n",
              "[134 rows x 5 columns]"
            ]
          },
          "metadata": {
            "tags": []
          },
          "execution_count": 151
        }
      ]
    },
    {
      "cell_type": "code",
      "metadata": {
        "id": "668ocmYtpVkQ"
      },
      "source": [
        ""
      ],
      "execution_count": null,
      "outputs": []
    },
    {
      "cell_type": "code",
      "metadata": {
        "colab": {
          "base_uri": "https://localhost:8080/",
          "height": 204
        },
        "id": "l7sVvfgRkXSn",
        "outputId": "b5aa856a-c422-4381-c174-366d9efae6b1"
      },
      "source": [
        "eletri_prod = data_brazil[data_brazil.index == 'Electricity production, kWh/capita'][1:].transpose()\n",
        "eletri_prod"
      ],
      "execution_count": null,
      "outputs": [
        {
          "output_type": "execute_result",
          "data": {
            "text/html": [
              "<div>\n",
              "<style scoped>\n",
              "    .dataframe tbody tr th:only-of-type {\n",
              "        vertical-align: middle;\n",
              "    }\n",
              "\n",
              "    .dataframe tbody tr th {\n",
              "        vertical-align: top;\n",
              "    }\n",
              "\n",
              "    .dataframe thead th {\n",
              "        text-align: right;\n",
              "    }\n",
              "</style>\n",
              "<table border=\"1\" class=\"dataframe\">\n",
              "  <thead>\n",
              "    <tr style=\"text-align: right;\">\n",
              "      <th>Indicator</th>\n",
              "      <th>Electricity production, kWh/capita</th>\n",
              "    </tr>\n",
              "  </thead>\n",
              "  <tbody>\n",
              "    <tr>\n",
              "      <th>2012</th>\n",
              "      <td>72.0</td>\n",
              "    </tr>\n",
              "    <tr>\n",
              "      <th>2013</th>\n",
              "      <td>73.0</td>\n",
              "    </tr>\n",
              "    <tr>\n",
              "      <th>2014</th>\n",
              "      <td>73.0</td>\n",
              "    </tr>\n",
              "    <tr>\n",
              "      <th>2015</th>\n",
              "      <td>71.0</td>\n",
              "    </tr>\n",
              "    <tr>\n",
              "      <th>2016</th>\n",
              "      <td>68.0</td>\n",
              "    </tr>\n",
              "  </tbody>\n",
              "</table>\n",
              "</div>"
            ],
            "text/plain": [
              "Indicator  Electricity production, kWh/capita\n",
              "2012                                     72.0\n",
              "2013                                     73.0\n",
              "2014                                     73.0\n",
              "2015                                     71.0\n",
              "2016                                     68.0"
            ]
          },
          "metadata": {
            "tags": []
          },
          "execution_count": 159
        }
      ]
    },
    {
      "cell_type": "code",
      "metadata": {
        "id": "X3YVe_oZkXVX"
      },
      "source": [
        "# sns.lineplot(data=eletri_prod)\n",
        "# local_competi"
      ],
      "execution_count": null,
      "outputs": []
    },
    {
      "cell_type": "code",
      "metadata": {
        "colab": {
          "base_uri": "https://localhost:8080/",
          "height": 411
        },
        "id": "xVm3LEQLkXX2",
        "outputId": "c936b37a-70f3-4b63-9627-40ab060f09d8"
      },
      "source": [
        "#country metrics\n",
        "# eletri_prod = data_brazil[data_brazil.index == 'Electricity production, kWh/capita'][1:].transpose()\n",
        "gov_advanced = data_brazil[data_brazil.index == \"Gov't procurement of advanced tech, 1-7 (best)\"][1:].transpose()\n",
        "local_competi = data_brazil[data_brazil.index == 'Intensity of local competition, 1-7 (best)'][1:].transpose()\n",
        "# no_proce_business = data_brazil[data_brazil.index == 'No. procedures to start a business'][1:].transpose()\n",
        "latest_tech = data_brazil[data_brazil.index == 'Availability of latest technologies, 1-7 (best)'][1:].transpose()\n",
        "efec_low = data_brazil[data_brazil.index == 'Effectiveness of law-making bodies, 1-7 (best)'][1:].transpose()\n",
        "dt = pd.concat([ \n",
        "  gov_advanced, \n",
        "  local_competi, \n",
        "  # no_proce_business, \n",
        "  latest_tech, \n",
        "  efec_low\n",
        "  ], axis=1)\n",
        "dt\n",
        "\n",
        "plt.figure(figsize=(8,6))\n",
        "sns.lineplot(data=dt)\n",
        "plt.legend(bbox_to_anchor=(1.05, 1), loc=2, borderaxespad=0.)\n",
        "plt.ylabel(\"1-7 (best)\") \n",
        "plt.xlabel(\"Ano\")"
      ],
      "execution_count": null,
      "outputs": [
        {
          "output_type": "execute_result",
          "data": {
            "text/plain": [
              "Text(0.5, 0, 'Ano')"
            ]
          },
          "metadata": {
            "tags": []
          },
          "execution_count": 176
        },
        {
          "output_type": "display_data",
          "data": {
            "image/png": "[encoded data removed]",
            "text/plain": [
              "<Figure size 576x432 with 1 Axes>"
            ]
          },
          "metadata": {
            "tags": []
          }
        }
      ]
    },
    {
      "cell_type": "code",
      "metadata": {
        "colab": {
          "base_uri": "https://localhost:8080/",
          "height": 394
        },
        "id": "b--UernykXag",
        "outputId": "4e687154-32ef-4a42-94a0-30d29a018cd9"
      },
      "source": [
        "#networkd metrics\n",
        "piracy_rate = data_brazil[data_brazil.index == 'Software piracy rate, % software installed'][1:].transpose()\n",
        "int_tele_compet = data_brazil[data_brazil.index == 'Internet & telephony competition, 0-2 (best)'][1:].transpose()\n",
        "broadband = data_brazil[data_brazil.index == 'Fixed broadband Internet tariffs, PPP $/month'][1:].transpose()\n",
        "mobile_tariffs = data_brazil[data_brazil.index == 'Prepaid mobile cellular tariffs, PPP $/min.'][1:].transpose()\n",
        "secure_internet = data_brazil[data_brazil.index == 'Secure Internet servers/million pop.'][1:].transpose()\n",
        "internet_bandwidth = data_brazil[data_brazil.index == \"Int'l Internet bandwidth, kb/s per user\"][1:].transpose()\n",
        "mobile_cober = data_brazil[data_brazil.index == 'Mobile network coverage, % pop.'][1:].transpose()\n",
        "mobile_sub = data_brazil[data_brazil.index == 'Mobile phone subscriptions/100 pop.'][1:].transpose()\n",
        "dt = pd.concat([ piracy_rate, int_tele_compet, broadband, mobile_tariffs, secure_internet, internet_bandwidth, mobile_cober,mobile_sub], axis=1)\n",
        "dt\n",
        "\n",
        "plt.figure(figsize=(10,6))\n",
        "\n",
        "# sns.set_theme(style=\"darkgrid\")\n",
        "sns.lineplot(data=dt)\n",
        "plt.legend(bbox_to_anchor=(1.05, 1), loc=2, borderaxespad=0.)\n"
      ],
      "execution_count": null,
      "outputs": [
        {
          "output_type": "execute_result",
          "data": {
            "text/plain": [
              "<matplotlib.legend.Legend at 0x7f2fb436bfd0>"
            ]
          },
          "metadata": {
            "tags": []
          },
          "execution_count": 170
        },
        {
          "output_type": "display_data",
          "data": {
            "image/png": "[encoded data removed]",
            "text/plain": [
              "<Figure size 720x432 with 1 Axes>"
            ]
          },
          "metadata": {
            "tags": []
          }
        }
      ]
    },
    {
      "cell_type": "code",
      "metadata": {
        "id": "YU6PozeVa3h4",
        "colab": {
          "base_uri": "https://localhost:8080/",
          "height": 394
        },
        "outputId": "50c0a676-7e07-4020-8398-c8ac3fb1430a"
      },
      "source": [
        "#education metrics\n",
        "# adult_literacy = data_brazil[data_brazil['Indicator'] == '']\n",
        "quanlity_manag_schol = data_brazil[data_brazil.index == 'Quality of management schools, 1-7 (best)'][1:].transpose()\n",
        "quanlity_education = data_brazil[data_brazil.index == 'Quality of educational system, 1-7 (best)'][1:].transpose()\n",
        "adult_literacy = data_brazil[data_brazil.index == 'Adult literacy rate, %'][1:].transpose()\n",
        "dt = pd.concat([ quanlity_manag_schol, quanlity_education, adult_literacy], axis=1)\n",
        "dt\n",
        "plt.figure(figsize=(10,6))\n",
        "sns.lineplot(data=dt)\n",
        "plt.legend(bbox_to_anchor=(1.05, 1), loc=2, borderaxespad=0.)\n"
      ],
      "execution_count": null,
      "outputs": [
        {
          "output_type": "execute_result",
          "data": {
            "text/plain": [
              "<matplotlib.legend.Legend at 0x7f2fb4849588>"
            ]
          },
          "metadata": {
            "tags": []
          },
          "execution_count": 173
        },
        {
          "output_type": "display_data",
          "data": {
            "image/png": "[encoded data removed]",
            "text/plain": [
              "<Figure size 720x432 with 1 Axes>"
            ]
          },
          "metadata": {
            "tags": []
          }
        }
      ]
    },
    {
      "cell_type": "code",
      "metadata": {
        "id": "mKqzFf6Rrf6t"
      },
      "source": [
        ""
      ],
      "execution_count": null,
      "outputs": []
    },
    {
      "cell_type": "code",
      "metadata": {
        "id": "YMaIv3pvrf9E"
      },
      "source": [
        ""
      ],
      "execution_count": null,
      "outputs": []
    },
    {
      "cell_type": "code",
      "metadata": {
        "id": "AFwYzq53rf_z"
      },
      "source": [
        ""
      ],
      "execution_count": null,
      "outputs": []
    },
    {
      "cell_type": "code",
      "metadata": {
        "id": "JBroCbjaUq8q"
      },
      "source": [
        ""
      ],
      "execution_count": null,
      "outputs": []
    }
  ]
}